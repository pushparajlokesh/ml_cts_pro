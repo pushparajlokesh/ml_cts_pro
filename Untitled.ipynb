{
 "cells": [
  {
   "cell_type": "code",
   "execution_count": 1,
   "id": "31080866-f73b-4611-b2ad-45e9eafd751a",
   "metadata": {},
   "outputs": [
    {
     "name": "stdout",
     "output_type": "stream",
     "text": [
      "[LightGBM] [Info] Auto-choosing col-wise multi-threading, the overhead of testing was 0.001574 seconds.\n",
      "You can set `force_col_wise=true` to remove the overhead.\n",
      "[LightGBM] [Info] Total Bins 12981\n",
      "[LightGBM] [Info] Number of data points in the train set: 1600, number of used features: 55\n",
      "[LightGBM] [Info] Start training from score -0.007867\n",
      "[LightGBM] [Info] Auto-choosing col-wise multi-threading, the overhead of testing was 0.001394 seconds.\n",
      "You can set `force_col_wise=true` to remove the overhead.\n",
      "[LightGBM] [Info] Total Bins 12981\n",
      "[LightGBM] [Info] Number of data points in the train set: 1600, number of used features: 55\n",
      "[LightGBM] [Info] Start training from score -0.004643\n",
      "[LightGBM] [Info] Auto-choosing col-wise multi-threading, the overhead of testing was 0.001507 seconds.\n",
      "You can set `force_col_wise=true` to remove the overhead.\n",
      "[LightGBM] [Info] Total Bins 12981\n",
      "[LightGBM] [Info] Number of data points in the train set: 1600, number of used features: 55\n",
      "[LightGBM] [Info] Start training from score -0.030361\n",
      "[LightGBM] [Info] Auto-choosing col-wise multi-threading, the overhead of testing was 0.001459 seconds.\n",
      "You can set `force_col_wise=true` to remove the overhead.\n",
      "[LightGBM] [Info] Total Bins 12981\n",
      "[LightGBM] [Info] Number of data points in the train set: 1600, number of used features: 55\n",
      "[LightGBM] [Info] Start training from score -0.013032\n",
      "[LightGBM] [Info] Auto-choosing col-wise multi-threading, the overhead of testing was 0.001439 seconds.\n",
      "You can set `force_col_wise=true` to remove the overhead.\n",
      "[LightGBM] [Info] Total Bins 12981\n",
      "[LightGBM] [Info] Number of data points in the train set: 1600, number of used features: 55\n",
      "[LightGBM] [Info] Start training from score -0.033121\n",
      "[LightGBM] [Info] Auto-choosing col-wise multi-threading, the overhead of testing was 0.001373 seconds.\n",
      "You can set `force_col_wise=true` to remove the overhead.\n",
      "[LightGBM] [Info] Total Bins 12981\n",
      "[LightGBM] [Info] Number of data points in the train set: 1600, number of used features: 55\n",
      "[LightGBM] [Info] Start training from score -0.021294\n",
      "[LightGBM] [Info] Auto-choosing col-wise multi-threading, the overhead of testing was 0.001407 seconds.\n",
      "You can set `force_col_wise=true` to remove the overhead.\n",
      "[LightGBM] [Info] Total Bins 12981\n",
      "[LightGBM] [Info] Number of data points in the train set: 1600, number of used features: 55\n",
      "[LightGBM] [Info] Start training from score -0.029208\n",
      "[LightGBM] [Info] Auto-choosing col-wise multi-threading, the overhead of testing was 0.001570 seconds.\n",
      "You can set `force_col_wise=true` to remove the overhead.\n",
      "[LightGBM] [Info] Total Bins 12981\n",
      "[LightGBM] [Info] Number of data points in the train set: 1600, number of used features: 55\n",
      "[LightGBM] [Info] Start training from score -0.010603\n",
      "[LightGBM] [Info] Auto-choosing col-wise multi-threading, the overhead of testing was 0.001702 seconds.\n",
      "You can set `force_col_wise=true` to remove the overhead.\n",
      "[LightGBM] [Info] Total Bins 12981\n",
      "[LightGBM] [Info] Number of data points in the train set: 1600, number of used features: 55\n",
      "[LightGBM] [Info] Start training from score -0.018851\n",
      "[LightGBM] [Info] Auto-choosing col-wise multi-threading, the overhead of testing was 0.001600 seconds.\n",
      "You can set `force_col_wise=true` to remove the overhead.\n",
      "[LightGBM] [Info] Total Bins 12981\n",
      "[LightGBM] [Info] Number of data points in the train set: 1600, number of used features: 55\n",
      "[LightGBM] [Info] Start training from score 0.004861\n",
      "RandomForest Validation RMSE: 0.3627\n",
      "LightGBM Validation RMSE: 0.2117\n",
      "XGBoost Validation RMSE: 0.2471\n",
      "[LightGBM] [Info] Auto-choosing col-wise multi-threading, the overhead of testing was 0.000096 seconds.\n",
      "You can set `force_col_wise=true` to remove the overhead.\n",
      "[LightGBM] [Info] Total Bins 765\n",
      "[LightGBM] [Info] Number of data points in the train set: 1600, number of used features: 3\n",
      "[LightGBM] [Info] Start training from score -0.007867\n",
      "[LightGBM] [Info] Auto-choosing col-wise multi-threading, the overhead of testing was 0.000194 seconds.\n",
      "You can set `force_col_wise=true` to remove the overhead.\n",
      "[LightGBM] [Info] Total Bins 765\n",
      "[LightGBM] [Info] Number of data points in the train set: 1600, number of used features: 3\n",
      "[LightGBM] [Info] Start training from score -0.004643\n",
      "[LightGBM] [Info] Auto-choosing col-wise multi-threading, the overhead of testing was 0.000128 seconds.\n",
      "You can set `force_col_wise=true` to remove the overhead.\n",
      "[LightGBM] [Info] Total Bins 765\n",
      "[LightGBM] [Info] Number of data points in the train set: 1600, number of used features: 3\n",
      "[LightGBM] [Info] Start training from score -0.030361\n",
      "[LightGBM] [Info] Auto-choosing col-wise multi-threading, the overhead of testing was 0.000106 seconds.\n",
      "You can set `force_col_wise=true` to remove the overhead.\n",
      "[LightGBM] [Info] Total Bins 765\n",
      "[LightGBM] [Info] Number of data points in the train set: 1600, number of used features: 3\n",
      "[LightGBM] [Info] Start training from score -0.013032\n",
      "[LightGBM] [Info] Auto-choosing col-wise multi-threading, the overhead of testing was 0.000133 seconds.\n",
      "You can set `force_col_wise=true` to remove the overhead.\n",
      "[LightGBM] [Info] Total Bins 765\n",
      "[LightGBM] [Info] Number of data points in the train set: 1600, number of used features: 3\n",
      "[LightGBM] [Info] Start training from score -0.033121\n",
      "[LightGBM] [Info] Auto-choosing col-wise multi-threading, the overhead of testing was 0.000103 seconds.\n",
      "You can set `force_col_wise=true` to remove the overhead.\n",
      "[LightGBM] [Info] Total Bins 765\n",
      "[LightGBM] [Info] Number of data points in the train set: 1600, number of used features: 3\n",
      "[LightGBM] [Info] Start training from score -0.021294\n",
      "[LightGBM] [Info] Auto-choosing col-wise multi-threading, the overhead of testing was 0.000157 seconds.\n",
      "You can set `force_col_wise=true` to remove the overhead.\n",
      "[LightGBM] [Info] Total Bins 765\n",
      "[LightGBM] [Info] Number of data points in the train set: 1600, number of used features: 3\n",
      "[LightGBM] [Info] Start training from score -0.029208\n",
      "[LightGBM] [Info] Auto-choosing col-wise multi-threading, the overhead of testing was 0.000128 seconds.\n",
      "You can set `force_col_wise=true` to remove the overhead.\n",
      "[LightGBM] [Info] Total Bins 765\n",
      "[LightGBM] [Info] Number of data points in the train set: 1600, number of used features: 3\n",
      "[LightGBM] [Info] Start training from score -0.010603\n",
      "[LightGBM] [Info] Auto-choosing col-wise multi-threading, the overhead of testing was 0.000165 seconds.\n",
      "You can set `force_col_wise=true` to remove the overhead.\n",
      "[LightGBM] [Info] Total Bins 765\n",
      "[LightGBM] [Info] Number of data points in the train set: 1600, number of used features: 3\n",
      "[LightGBM] [Info] Start training from score -0.018851\n",
      "[LightGBM] [Info] Auto-choosing col-wise multi-threading, the overhead of testing was 0.000131 seconds.\n",
      "You can set `force_col_wise=true` to remove the overhead.\n",
      "[LightGBM] [Info] Total Bins 765\n",
      "[LightGBM] [Info] Number of data points in the train set: 1600, number of used features: 3\n",
      "[LightGBM] [Info] Start training from score 0.004861\n",
      "Stacking Ensemble Validation RMSE: 0.2060\n",
      "[LightGBM] [Info] Auto-choosing col-wise multi-threading, the overhead of testing was 0.000164 seconds.\n",
      "You can set `force_col_wise=true` to remove the overhead.\n",
      "[LightGBM] [Info] Total Bins 765\n",
      "[LightGBM] [Info] Number of data points in the train set: 2000, number of used features: 3\n",
      "[LightGBM] [Info] Start training from score -0.016879\n",
      "[LightGBM] [Info] Auto-choosing col-wise multi-threading, the overhead of testing was 0.000163 seconds.\n",
      "You can set `force_col_wise=true` to remove the overhead.\n",
      "[LightGBM] [Info] Total Bins 765\n",
      "[LightGBM] [Info] Number of data points in the train set: 2000, number of used features: 3\n",
      "[LightGBM] [Info] Start training from score -0.002076\n",
      "[LightGBM] [Info] Auto-choosing col-wise multi-threading, the overhead of testing was 0.000157 seconds.\n",
      "You can set `force_col_wise=true` to remove the overhead.\n",
      "[LightGBM] [Info] Total Bins 765\n",
      "[LightGBM] [Info] Number of data points in the train set: 2000, number of used features: 3\n",
      "[LightGBM] [Info] Start training from score -0.014351\n",
      "[LightGBM] [Info] Auto-choosing col-wise multi-threading, the overhead of testing was 0.000179 seconds.\n",
      "You can set `force_col_wise=true` to remove the overhead.\n",
      "[LightGBM] [Info] Total Bins 765\n",
      "[LightGBM] [Info] Number of data points in the train set: 2000, number of used features: 3\n",
      "[LightGBM] [Info] Start training from score -0.006068\n",
      "[LightGBM] [Info] Auto-choosing col-wise multi-threading, the overhead of testing was 0.000135 seconds.\n",
      "You can set `force_col_wise=true` to remove the overhead.\n",
      "[LightGBM] [Info] Total Bins 765\n",
      "[LightGBM] [Info] Number of data points in the train set: 2000, number of used features: 3\n",
      "[LightGBM] [Info] Start training from score -0.015249\n",
      "[LightGBM] [Info] Auto-choosing col-wise multi-threading, the overhead of testing was 0.000118 seconds.\n",
      "You can set `force_col_wise=true` to remove the overhead.\n",
      "[LightGBM] [Info] Total Bins 765\n",
      "[LightGBM] [Info] Number of data points in the train set: 2000, number of used features: 3\n",
      "[LightGBM] [Info] Start training from score -0.003497\n",
      "[LightGBM] [Info] Auto-choosing col-wise multi-threading, the overhead of testing was 0.000114 seconds.\n",
      "You can set `force_col_wise=true` to remove the overhead.\n",
      "[LightGBM] [Info] Total Bins 765\n",
      "[LightGBM] [Info] Number of data points in the train set: 2000, number of used features: 3\n",
      "[LightGBM] [Info] Start training from score -0.013568\n",
      "[LightGBM] [Info] Auto-choosing col-wise multi-threading, the overhead of testing was 0.000109 seconds.\n",
      "You can set `force_col_wise=true` to remove the overhead.\n",
      "[LightGBM] [Info] Total Bins 765\n",
      "[LightGBM] [Info] Number of data points in the train set: 2000, number of used features: 3\n",
      "[LightGBM] [Info] Start training from score -0.017236\n",
      "[LightGBM] [Info] Auto-choosing col-wise multi-threading, the overhead of testing was 0.000080 seconds.\n",
      "You can set `force_col_wise=true` to remove the overhead.\n",
      "[LightGBM] [Info] Total Bins 765\n",
      "[LightGBM] [Info] Number of data points in the train set: 2000, number of used features: 3\n",
      "[LightGBM] [Info] Start training from score -0.001507\n",
      "[LightGBM] [Info] Auto-choosing col-wise multi-threading, the overhead of testing was 0.000095 seconds.\n",
      "You can set `force_col_wise=true` to remove the overhead.\n",
      "[LightGBM] [Info] Total Bins 765\n",
      "[LightGBM] [Info] Number of data points in the train set: 2000, number of used features: 3\n",
      "[LightGBM] [Info] Start training from score -0.001795\n",
      "Saved submission.csv\n"
     ]
    }
   ],
   "source": [
    "import pandas as pd\n",
    "import numpy as np\n",
    "from sklearn.model_selection import train_test_split\n",
    "from sklearn.ensemble import RandomForestRegressor, StackingRegressor\n",
    "from sklearn.multioutput import MultiOutputRegressor\n",
    "from sklearn.metrics import mean_squared_error\n",
    "import lightgbm as lgb\n",
    "import xgboost as xgb\n",
    "\n",
    "# Load data\n",
    "train = pd.read_csv(\"train.csv\")\n",
    "test = pd.read_csv(\"test.csv\")\n",
    "\n",
    "# Features and targets\n",
    "X = train.drop(columns=[col for col in train.columns if col.startswith(\"BlendProperty\")])\n",
    "y = train[[col for col in train.columns if col.startswith(\"BlendProperty\")]]\n",
    "\n",
    "# Drop ID if present\n",
    "if 'ID' in X.columns:\n",
    "    X = X.drop(columns=['ID'])\n",
    "if 'ID' in test.columns:\n",
    "    test_ids = test['ID']\n",
    "    X_test = test.drop(columns=['ID'])\n",
    "else:\n",
    "    test_ids = np.arange(len(test))\n",
    "    X_test = test.copy()\n",
    "\n",
    "# Train/validation split\n",
    "X_train, X_val, y_train, y_val = train_test_split(X, y, test_size=0.2, random_state=42)\n",
    "\n",
    "# Base models\n",
    "rf = MultiOutputRegressor(RandomForestRegressor(n_estimators=200, random_state=42, n_jobs=-1))\n",
    "lgbm = MultiOutputRegressor(lgb.LGBMRegressor(n_estimators=500, learning_rate=0.05, random_state=42, n_jobs=-1))\n",
    "xgbm = MultiOutputRegressor(xgb.XGBRegressor(n_estimators=500, learning_rate=0.05, max_depth=6, subsample=0.8, colsample_bytree=0.8, random_state=42, n_jobs=-1))\n",
    "\n",
    "# Fit base models\n",
    "rf.fit(X_train, y_train)\n",
    "lgbm.fit(X_train, y_train)\n",
    "xgbm.fit(X_train, y_train)\n",
    "\n",
    "# Evaluate base models\n",
    "for name, model in zip([\"RandomForest\", \"LightGBM\", \"XGBoost\"], [rf, lgbm, xgbm]):\n",
    "    val_preds = model.predict(X_val)\n",
    "    rmse = np.sqrt(mean_squared_error(y_val, val_preds))\n",
    "    print(f\"{name} Validation RMSE: {rmse:.4f}\")\n",
    "\n",
    "# Stacking ensemble (stacking works with single-output models, so we wrap inside MultiOutput)\n",
    "base_learners = [(\"rf\", RandomForestRegressor(n_estimators=200, random_state=42, n_jobs=-1)),\n",
    "                 (\"lgb\", lgb.LGBMRegressor(n_estimators=500, learning_rate=0.05, random_state=42, n_jobs=-1)),\n",
    "                 (\"xgb\", xgb.XGBRegressor(n_estimators=500, learning_rate=0.05, max_depth=6, subsample=0.8, colsample_bytree=0.8, random_state=42, n_jobs=-1))]\n",
    "\n",
    "final_estimator = lgb.LGBMRegressor(n_estimators=300, learning_rate=0.05, random_state=42, n_jobs=-1)\n",
    "stack = MultiOutputRegressor(StackingRegressor(estimators=base_learners, final_estimator=final_estimator, n_jobs=-1))\n",
    "\n",
    "# Train stacking model\n",
    "stack.fit(X_train, y_train)\n",
    "val_preds = stack.predict(X_val)\n",
    "rmse = np.sqrt(mean_squared_error(y_val, val_preds))\n",
    "print(f\"Stacking Ensemble Validation RMSE: {rmse:.4f}\")\n",
    "\n",
    "# Fit on full training data\n",
    "stack.fit(X, y)\n",
    "\n",
    "# Predict on test\n",
    "preds = stack.predict(X_test)\n",
    "\n",
    "# Save submission\n",
    "submission = pd.DataFrame(preds, columns=[f\"BlendProperty{i}\" for i in range(1, 11)])\n",
    "submission.insert(0, \"ID\", test_ids)\n",
    "submission.to_csv(\"submission.csv\", index=False)\n",
    "print(\"Saved submission.csv\")\n"
   ]
  },
  {
   "cell_type": "code",
   "execution_count": 12,
   "id": "1c41fadd-8599-4c1d-ae7c-adfdff5840ca",
   "metadata": {},
   "outputs": [
    {
     "name": "stderr",
     "output_type": "stream",
     "text": [
      "C:\\Users\\pushp\\AppData\\Local\\Temp\\ipykernel_14980\\4110252096.py:36: PerformanceWarning: DataFrame is highly fragmented.  This is usually the result of calling `frame.insert` many times, which has poor performance.  Consider joining all columns at once using pd.concat(axis=1) instead. To get a de-fragmented frame, use `newframe = frame.copy()`\n",
      "  X[new_col] = X[frac] * X[prop]\n",
      "C:\\Users\\pushp\\AppData\\Local\\Temp\\ipykernel_14980\\4110252096.py:37: PerformanceWarning: DataFrame is highly fragmented.  This is usually the result of calling `frame.insert` many times, which has poor performance.  Consider joining all columns at once using pd.concat(axis=1) instead. To get a de-fragmented frame, use `newframe = frame.copy()`\n",
      "  X_test[new_col] = X_test[frac] * X_test[prop]\n",
      "C:\\Users\\pushp\\AppData\\Local\\Temp\\ipykernel_14980\\4110252096.py:36: PerformanceWarning: DataFrame is highly fragmented.  This is usually the result of calling `frame.insert` many times, which has poor performance.  Consider joining all columns at once using pd.concat(axis=1) instead. To get a de-fragmented frame, use `newframe = frame.copy()`\n",
      "  X[new_col] = X[frac] * X[prop]\n",
      "C:\\Users\\pushp\\AppData\\Local\\Temp\\ipykernel_14980\\4110252096.py:37: PerformanceWarning: DataFrame is highly fragmented.  This is usually the result of calling `frame.insert` many times, which has poor performance.  Consider joining all columns at once using pd.concat(axis=1) instead. To get a de-fragmented frame, use `newframe = frame.copy()`\n",
      "  X_test[new_col] = X_test[frac] * X_test[prop]\n",
      "C:\\Users\\pushp\\AppData\\Local\\Temp\\ipykernel_14980\\4110252096.py:36: PerformanceWarning: DataFrame is highly fragmented.  This is usually the result of calling `frame.insert` many times, which has poor performance.  Consider joining all columns at once using pd.concat(axis=1) instead. To get a de-fragmented frame, use `newframe = frame.copy()`\n",
      "  X[new_col] = X[frac] * X[prop]\n",
      "C:\\Users\\pushp\\AppData\\Local\\Temp\\ipykernel_14980\\4110252096.py:37: PerformanceWarning: DataFrame is highly fragmented.  This is usually the result of calling `frame.insert` many times, which has poor performance.  Consider joining all columns at once using pd.concat(axis=1) instead. To get a de-fragmented frame, use `newframe = frame.copy()`\n",
      "  X_test[new_col] = X_test[frac] * X_test[prop]\n",
      "C:\\Users\\pushp\\AppData\\Local\\Temp\\ipykernel_14980\\4110252096.py:36: PerformanceWarning: DataFrame is highly fragmented.  This is usually the result of calling `frame.insert` many times, which has poor performance.  Consider joining all columns at once using pd.concat(axis=1) instead. To get a de-fragmented frame, use `newframe = frame.copy()`\n",
      "  X[new_col] = X[frac] * X[prop]\n",
      "C:\\Users\\pushp\\AppData\\Local\\Temp\\ipykernel_14980\\4110252096.py:37: PerformanceWarning: DataFrame is highly fragmented.  This is usually the result of calling `frame.insert` many times, which has poor performance.  Consider joining all columns at once using pd.concat(axis=1) instead. To get a de-fragmented frame, use `newframe = frame.copy()`\n",
      "  X_test[new_col] = X_test[frac] * X_test[prop]\n",
      "C:\\Users\\pushp\\AppData\\Local\\Temp\\ipykernel_14980\\4110252096.py:36: PerformanceWarning: DataFrame is highly fragmented.  This is usually the result of calling `frame.insert` many times, which has poor performance.  Consider joining all columns at once using pd.concat(axis=1) instead. To get a de-fragmented frame, use `newframe = frame.copy()`\n",
      "  X[new_col] = X[frac] * X[prop]\n",
      "C:\\Users\\pushp\\AppData\\Local\\Temp\\ipykernel_14980\\4110252096.py:37: PerformanceWarning: DataFrame is highly fragmented.  This is usually the result of calling `frame.insert` many times, which has poor performance.  Consider joining all columns at once using pd.concat(axis=1) instead. To get a de-fragmented frame, use `newframe = frame.copy()`\n",
      "  X_test[new_col] = X_test[frac] * X_test[prop]\n",
      "C:\\Users\\pushp\\AppData\\Local\\Temp\\ipykernel_14980\\4110252096.py:36: PerformanceWarning: DataFrame is highly fragmented.  This is usually the result of calling `frame.insert` many times, which has poor performance.  Consider joining all columns at once using pd.concat(axis=1) instead. To get a de-fragmented frame, use `newframe = frame.copy()`\n",
      "  X[new_col] = X[frac] * X[prop]\n",
      "C:\\Users\\pushp\\AppData\\Local\\Temp\\ipykernel_14980\\4110252096.py:37: PerformanceWarning: DataFrame is highly fragmented.  This is usually the result of calling `frame.insert` many times, which has poor performance.  Consider joining all columns at once using pd.concat(axis=1) instead. To get a de-fragmented frame, use `newframe = frame.copy()`\n",
      "  X_test[new_col] = X_test[frac] * X_test[prop]\n",
      "C:\\Users\\pushp\\AppData\\Local\\Temp\\ipykernel_14980\\4110252096.py:36: PerformanceWarning: DataFrame is highly fragmented.  This is usually the result of calling `frame.insert` many times, which has poor performance.  Consider joining all columns at once using pd.concat(axis=1) instead. To get a de-fragmented frame, use `newframe = frame.copy()`\n",
      "  X[new_col] = X[frac] * X[prop]\n",
      "C:\\Users\\pushp\\AppData\\Local\\Temp\\ipykernel_14980\\4110252096.py:37: PerformanceWarning: DataFrame is highly fragmented.  This is usually the result of calling `frame.insert` many times, which has poor performance.  Consider joining all columns at once using pd.concat(axis=1) instead. To get a de-fragmented frame, use `newframe = frame.copy()`\n",
      "  X_test[new_col] = X_test[frac] * X_test[prop]\n",
      "C:\\Users\\pushp\\AppData\\Local\\Temp\\ipykernel_14980\\4110252096.py:36: PerformanceWarning: DataFrame is highly fragmented.  This is usually the result of calling `frame.insert` many times, which has poor performance.  Consider joining all columns at once using pd.concat(axis=1) instead. To get a de-fragmented frame, use `newframe = frame.copy()`\n",
      "  X[new_col] = X[frac] * X[prop]\n",
      "C:\\Users\\pushp\\AppData\\Local\\Temp\\ipykernel_14980\\4110252096.py:37: PerformanceWarning: DataFrame is highly fragmented.  This is usually the result of calling `frame.insert` many times, which has poor performance.  Consider joining all columns at once using pd.concat(axis=1) instead. To get a de-fragmented frame, use `newframe = frame.copy()`\n",
      "  X_test[new_col] = X_test[frac] * X_test[prop]\n",
      "C:\\Users\\pushp\\AppData\\Local\\Temp\\ipykernel_14980\\4110252096.py:36: PerformanceWarning: DataFrame is highly fragmented.  This is usually the result of calling `frame.insert` many times, which has poor performance.  Consider joining all columns at once using pd.concat(axis=1) instead. To get a de-fragmented frame, use `newframe = frame.copy()`\n",
      "  X[new_col] = X[frac] * X[prop]\n",
      "C:\\Users\\pushp\\AppData\\Local\\Temp\\ipykernel_14980\\4110252096.py:37: PerformanceWarning: DataFrame is highly fragmented.  This is usually the result of calling `frame.insert` many times, which has poor performance.  Consider joining all columns at once using pd.concat(axis=1) instead. To get a de-fragmented frame, use `newframe = frame.copy()`\n",
      "  X_test[new_col] = X_test[frac] * X_test[prop]\n",
      "C:\\Users\\pushp\\AppData\\Local\\Temp\\ipykernel_14980\\4110252096.py:36: PerformanceWarning: DataFrame is highly fragmented.  This is usually the result of calling `frame.insert` many times, which has poor performance.  Consider joining all columns at once using pd.concat(axis=1) instead. To get a de-fragmented frame, use `newframe = frame.copy()`\n",
      "  X[new_col] = X[frac] * X[prop]\n",
      "C:\\Users\\pushp\\AppData\\Local\\Temp\\ipykernel_14980\\4110252096.py:37: PerformanceWarning: DataFrame is highly fragmented.  This is usually the result of calling `frame.insert` many times, which has poor performance.  Consider joining all columns at once using pd.concat(axis=1) instead. To get a de-fragmented frame, use `newframe = frame.copy()`\n",
      "  X_test[new_col] = X_test[frac] * X_test[prop]\n",
      "C:\\Users\\pushp\\AppData\\Local\\Temp\\ipykernel_14980\\4110252096.py:36: PerformanceWarning: DataFrame is highly fragmented.  This is usually the result of calling `frame.insert` many times, which has poor performance.  Consider joining all columns at once using pd.concat(axis=1) instead. To get a de-fragmented frame, use `newframe = frame.copy()`\n",
      "  X[new_col] = X[frac] * X[prop]\n",
      "C:\\Users\\pushp\\AppData\\Local\\Temp\\ipykernel_14980\\4110252096.py:37: PerformanceWarning: DataFrame is highly fragmented.  This is usually the result of calling `frame.insert` many times, which has poor performance.  Consider joining all columns at once using pd.concat(axis=1) instead. To get a de-fragmented frame, use `newframe = frame.copy()`\n",
      "  X_test[new_col] = X_test[frac] * X_test[prop]\n",
      "C:\\Users\\pushp\\AppData\\Local\\Temp\\ipykernel_14980\\4110252096.py:36: PerformanceWarning: DataFrame is highly fragmented.  This is usually the result of calling `frame.insert` many times, which has poor performance.  Consider joining all columns at once using pd.concat(axis=1) instead. To get a de-fragmented frame, use `newframe = frame.copy()`\n",
      "  X[new_col] = X[frac] * X[prop]\n",
      "C:\\Users\\pushp\\AppData\\Local\\Temp\\ipykernel_14980\\4110252096.py:37: PerformanceWarning: DataFrame is highly fragmented.  This is usually the result of calling `frame.insert` many times, which has poor performance.  Consider joining all columns at once using pd.concat(axis=1) instead. To get a de-fragmented frame, use `newframe = frame.copy()`\n",
      "  X_test[new_col] = X_test[frac] * X_test[prop]\n",
      "C:\\Users\\pushp\\AppData\\Local\\Temp\\ipykernel_14980\\4110252096.py:36: PerformanceWarning: DataFrame is highly fragmented.  This is usually the result of calling `frame.insert` many times, which has poor performance.  Consider joining all columns at once using pd.concat(axis=1) instead. To get a de-fragmented frame, use `newframe = frame.copy()`\n",
      "  X[new_col] = X[frac] * X[prop]\n",
      "C:\\Users\\pushp\\AppData\\Local\\Temp\\ipykernel_14980\\4110252096.py:37: PerformanceWarning: DataFrame is highly fragmented.  This is usually the result of calling `frame.insert` many times, which has poor performance.  Consider joining all columns at once using pd.concat(axis=1) instead. To get a de-fragmented frame, use `newframe = frame.copy()`\n",
      "  X_test[new_col] = X_test[frac] * X_test[prop]\n",
      "C:\\Users\\pushp\\AppData\\Local\\Temp\\ipykernel_14980\\4110252096.py:36: PerformanceWarning: DataFrame is highly fragmented.  This is usually the result of calling `frame.insert` many times, which has poor performance.  Consider joining all columns at once using pd.concat(axis=1) instead. To get a de-fragmented frame, use `newframe = frame.copy()`\n",
      "  X[new_col] = X[frac] * X[prop]\n",
      "C:\\Users\\pushp\\AppData\\Local\\Temp\\ipykernel_14980\\4110252096.py:37: PerformanceWarning: DataFrame is highly fragmented.  This is usually the result of calling `frame.insert` many times, which has poor performance.  Consider joining all columns at once using pd.concat(axis=1) instead. To get a de-fragmented frame, use `newframe = frame.copy()`\n",
      "  X_test[new_col] = X_test[frac] * X_test[prop]\n",
      "C:\\Users\\pushp\\AppData\\Local\\Temp\\ipykernel_14980\\4110252096.py:36: PerformanceWarning: DataFrame is highly fragmented.  This is usually the result of calling `frame.insert` many times, which has poor performance.  Consider joining all columns at once using pd.concat(axis=1) instead. To get a de-fragmented frame, use `newframe = frame.copy()`\n",
      "  X[new_col] = X[frac] * X[prop]\n",
      "C:\\Users\\pushp\\AppData\\Local\\Temp\\ipykernel_14980\\4110252096.py:37: PerformanceWarning: DataFrame is highly fragmented.  This is usually the result of calling `frame.insert` many times, which has poor performance.  Consider joining all columns at once using pd.concat(axis=1) instead. To get a de-fragmented frame, use `newframe = frame.copy()`\n",
      "  X_test[new_col] = X_test[frac] * X_test[prop]\n",
      "C:\\Users\\pushp\\AppData\\Local\\Temp\\ipykernel_14980\\4110252096.py:36: PerformanceWarning: DataFrame is highly fragmented.  This is usually the result of calling `frame.insert` many times, which has poor performance.  Consider joining all columns at once using pd.concat(axis=1) instead. To get a de-fragmented frame, use `newframe = frame.copy()`\n",
      "  X[new_col] = X[frac] * X[prop]\n",
      "C:\\Users\\pushp\\AppData\\Local\\Temp\\ipykernel_14980\\4110252096.py:37: PerformanceWarning: DataFrame is highly fragmented.  This is usually the result of calling `frame.insert` many times, which has poor performance.  Consider joining all columns at once using pd.concat(axis=1) instead. To get a de-fragmented frame, use `newframe = frame.copy()`\n",
      "  X_test[new_col] = X_test[frac] * X_test[prop]\n",
      "C:\\Users\\pushp\\AppData\\Local\\Temp\\ipykernel_14980\\4110252096.py:36: PerformanceWarning: DataFrame is highly fragmented.  This is usually the result of calling `frame.insert` many times, which has poor performance.  Consider joining all columns at once using pd.concat(axis=1) instead. To get a de-fragmented frame, use `newframe = frame.copy()`\n",
      "  X[new_col] = X[frac] * X[prop]\n",
      "C:\\Users\\pushp\\AppData\\Local\\Temp\\ipykernel_14980\\4110252096.py:37: PerformanceWarning: DataFrame is highly fragmented.  This is usually the result of calling `frame.insert` many times, which has poor performance.  Consider joining all columns at once using pd.concat(axis=1) instead. To get a de-fragmented frame, use `newframe = frame.copy()`\n",
      "  X_test[new_col] = X_test[frac] * X_test[prop]\n",
      "C:\\Users\\pushp\\AppData\\Local\\Temp\\ipykernel_14980\\4110252096.py:36: PerformanceWarning: DataFrame is highly fragmented.  This is usually the result of calling `frame.insert` many times, which has poor performance.  Consider joining all columns at once using pd.concat(axis=1) instead. To get a de-fragmented frame, use `newframe = frame.copy()`\n",
      "  X[new_col] = X[frac] * X[prop]\n",
      "C:\\Users\\pushp\\AppData\\Local\\Temp\\ipykernel_14980\\4110252096.py:37: PerformanceWarning: DataFrame is highly fragmented.  This is usually the result of calling `frame.insert` many times, which has poor performance.  Consider joining all columns at once using pd.concat(axis=1) instead. To get a de-fragmented frame, use `newframe = frame.copy()`\n",
      "  X_test[new_col] = X_test[frac] * X_test[prop]\n",
      "C:\\Users\\pushp\\AppData\\Local\\Temp\\ipykernel_14980\\4110252096.py:36: PerformanceWarning: DataFrame is highly fragmented.  This is usually the result of calling `frame.insert` many times, which has poor performance.  Consider joining all columns at once using pd.concat(axis=1) instead. To get a de-fragmented frame, use `newframe = frame.copy()`\n",
      "  X[new_col] = X[frac] * X[prop]\n",
      "C:\\Users\\pushp\\AppData\\Local\\Temp\\ipykernel_14980\\4110252096.py:37: PerformanceWarning: DataFrame is highly fragmented.  This is usually the result of calling `frame.insert` many times, which has poor performance.  Consider joining all columns at once using pd.concat(axis=1) instead. To get a de-fragmented frame, use `newframe = frame.copy()`\n",
      "  X_test[new_col] = X_test[frac] * X_test[prop]\n",
      "C:\\Users\\pushp\\AppData\\Local\\Temp\\ipykernel_14980\\4110252096.py:36: PerformanceWarning: DataFrame is highly fragmented.  This is usually the result of calling `frame.insert` many times, which has poor performance.  Consider joining all columns at once using pd.concat(axis=1) instead. To get a de-fragmented frame, use `newframe = frame.copy()`\n",
      "  X[new_col] = X[frac] * X[prop]\n",
      "C:\\Users\\pushp\\AppData\\Local\\Temp\\ipykernel_14980\\4110252096.py:37: PerformanceWarning: DataFrame is highly fragmented.  This is usually the result of calling `frame.insert` many times, which has poor performance.  Consider joining all columns at once using pd.concat(axis=1) instead. To get a de-fragmented frame, use `newframe = frame.copy()`\n",
      "  X_test[new_col] = X_test[frac] * X_test[prop]\n",
      "C:\\Users\\pushp\\AppData\\Local\\Temp\\ipykernel_14980\\4110252096.py:36: PerformanceWarning: DataFrame is highly fragmented.  This is usually the result of calling `frame.insert` many times, which has poor performance.  Consider joining all columns at once using pd.concat(axis=1) instead. To get a de-fragmented frame, use `newframe = frame.copy()`\n",
      "  X[new_col] = X[frac] * X[prop]\n",
      "C:\\Users\\pushp\\AppData\\Local\\Temp\\ipykernel_14980\\4110252096.py:37: PerformanceWarning: DataFrame is highly fragmented.  This is usually the result of calling `frame.insert` many times, which has poor performance.  Consider joining all columns at once using pd.concat(axis=1) instead. To get a de-fragmented frame, use `newframe = frame.copy()`\n",
      "  X_test[new_col] = X_test[frac] * X_test[prop]\n",
      "C:\\Users\\pushp\\AppData\\Local\\Temp\\ipykernel_14980\\4110252096.py:36: PerformanceWarning: DataFrame is highly fragmented.  This is usually the result of calling `frame.insert` many times, which has poor performance.  Consider joining all columns at once using pd.concat(axis=1) instead. To get a de-fragmented frame, use `newframe = frame.copy()`\n",
      "  X[new_col] = X[frac] * X[prop]\n",
      "C:\\Users\\pushp\\AppData\\Local\\Temp\\ipykernel_14980\\4110252096.py:37: PerformanceWarning: DataFrame is highly fragmented.  This is usually the result of calling `frame.insert` many times, which has poor performance.  Consider joining all columns at once using pd.concat(axis=1) instead. To get a de-fragmented frame, use `newframe = frame.copy()`\n",
      "  X_test[new_col] = X_test[frac] * X_test[prop]\n",
      "C:\\Users\\pushp\\AppData\\Local\\Temp\\ipykernel_14980\\4110252096.py:36: PerformanceWarning: DataFrame is highly fragmented.  This is usually the result of calling `frame.insert` many times, which has poor performance.  Consider joining all columns at once using pd.concat(axis=1) instead. To get a de-fragmented frame, use `newframe = frame.copy()`\n",
      "  X[new_col] = X[frac] * X[prop]\n",
      "C:\\Users\\pushp\\AppData\\Local\\Temp\\ipykernel_14980\\4110252096.py:37: PerformanceWarning: DataFrame is highly fragmented.  This is usually the result of calling `frame.insert` many times, which has poor performance.  Consider joining all columns at once using pd.concat(axis=1) instead. To get a de-fragmented frame, use `newframe = frame.copy()`\n",
      "  X_test[new_col] = X_test[frac] * X_test[prop]\n",
      "C:\\Users\\pushp\\AppData\\Local\\Temp\\ipykernel_14980\\4110252096.py:36: PerformanceWarning: DataFrame is highly fragmented.  This is usually the result of calling `frame.insert` many times, which has poor performance.  Consider joining all columns at once using pd.concat(axis=1) instead. To get a de-fragmented frame, use `newframe = frame.copy()`\n",
      "  X[new_col] = X[frac] * X[prop]\n",
      "C:\\Users\\pushp\\AppData\\Local\\Temp\\ipykernel_14980\\4110252096.py:37: PerformanceWarning: DataFrame is highly fragmented.  This is usually the result of calling `frame.insert` many times, which has poor performance.  Consider joining all columns at once using pd.concat(axis=1) instead. To get a de-fragmented frame, use `newframe = frame.copy()`\n",
      "  X_test[new_col] = X_test[frac] * X_test[prop]\n",
      "C:\\Users\\pushp\\AppData\\Local\\Temp\\ipykernel_14980\\4110252096.py:36: PerformanceWarning: DataFrame is highly fragmented.  This is usually the result of calling `frame.insert` many times, which has poor performance.  Consider joining all columns at once using pd.concat(axis=1) instead. To get a de-fragmented frame, use `newframe = frame.copy()`\n",
      "  X[new_col] = X[frac] * X[prop]\n",
      "C:\\Users\\pushp\\AppData\\Local\\Temp\\ipykernel_14980\\4110252096.py:37: PerformanceWarning: DataFrame is highly fragmented.  This is usually the result of calling `frame.insert` many times, which has poor performance.  Consider joining all columns at once using pd.concat(axis=1) instead. To get a de-fragmented frame, use `newframe = frame.copy()`\n",
      "  X_test[new_col] = X_test[frac] * X_test[prop]\n",
      "C:\\Users\\pushp\\AppData\\Local\\Temp\\ipykernel_14980\\4110252096.py:36: PerformanceWarning: DataFrame is highly fragmented.  This is usually the result of calling `frame.insert` many times, which has poor performance.  Consider joining all columns at once using pd.concat(axis=1) instead. To get a de-fragmented frame, use `newframe = frame.copy()`\n",
      "  X[new_col] = X[frac] * X[prop]\n",
      "C:\\Users\\pushp\\AppData\\Local\\Temp\\ipykernel_14980\\4110252096.py:37: PerformanceWarning: DataFrame is highly fragmented.  This is usually the result of calling `frame.insert` many times, which has poor performance.  Consider joining all columns at once using pd.concat(axis=1) instead. To get a de-fragmented frame, use `newframe = frame.copy()`\n",
      "  X_test[new_col] = X_test[frac] * X_test[prop]\n",
      "C:\\Users\\pushp\\AppData\\Local\\Temp\\ipykernel_14980\\4110252096.py:36: PerformanceWarning: DataFrame is highly fragmented.  This is usually the result of calling `frame.insert` many times, which has poor performance.  Consider joining all columns at once using pd.concat(axis=1) instead. To get a de-fragmented frame, use `newframe = frame.copy()`\n",
      "  X[new_col] = X[frac] * X[prop]\n",
      "C:\\Users\\pushp\\AppData\\Local\\Temp\\ipykernel_14980\\4110252096.py:37: PerformanceWarning: DataFrame is highly fragmented.  This is usually the result of calling `frame.insert` many times, which has poor performance.  Consider joining all columns at once using pd.concat(axis=1) instead. To get a de-fragmented frame, use `newframe = frame.copy()`\n",
      "  X_test[new_col] = X_test[frac] * X_test[prop]\n",
      "C:\\Users\\pushp\\AppData\\Local\\Temp\\ipykernel_14980\\4110252096.py:36: PerformanceWarning: DataFrame is highly fragmented.  This is usually the result of calling `frame.insert` many times, which has poor performance.  Consider joining all columns at once using pd.concat(axis=1) instead. To get a de-fragmented frame, use `newframe = frame.copy()`\n",
      "  X[new_col] = X[frac] * X[prop]\n",
      "C:\\Users\\pushp\\AppData\\Local\\Temp\\ipykernel_14980\\4110252096.py:37: PerformanceWarning: DataFrame is highly fragmented.  This is usually the result of calling `frame.insert` many times, which has poor performance.  Consider joining all columns at once using pd.concat(axis=1) instead. To get a de-fragmented frame, use `newframe = frame.copy()`\n",
      "  X_test[new_col] = X_test[frac] * X_test[prop]\n",
      "C:\\Users\\pushp\\AppData\\Local\\Temp\\ipykernel_14980\\4110252096.py:36: PerformanceWarning: DataFrame is highly fragmented.  This is usually the result of calling `frame.insert` many times, which has poor performance.  Consider joining all columns at once using pd.concat(axis=1) instead. To get a de-fragmented frame, use `newframe = frame.copy()`\n",
      "  X[new_col] = X[frac] * X[prop]\n",
      "C:\\Users\\pushp\\AppData\\Local\\Temp\\ipykernel_14980\\4110252096.py:37: PerformanceWarning: DataFrame is highly fragmented.  This is usually the result of calling `frame.insert` many times, which has poor performance.  Consider joining all columns at once using pd.concat(axis=1) instead. To get a de-fragmented frame, use `newframe = frame.copy()`\n",
      "  X_test[new_col] = X_test[frac] * X_test[prop]\n",
      "C:\\Users\\pushp\\AppData\\Local\\Temp\\ipykernel_14980\\4110252096.py:36: PerformanceWarning: DataFrame is highly fragmented.  This is usually the result of calling `frame.insert` many times, which has poor performance.  Consider joining all columns at once using pd.concat(axis=1) instead. To get a de-fragmented frame, use `newframe = frame.copy()`\n",
      "  X[new_col] = X[frac] * X[prop]\n",
      "C:\\Users\\pushp\\AppData\\Local\\Temp\\ipykernel_14980\\4110252096.py:37: PerformanceWarning: DataFrame is highly fragmented.  This is usually the result of calling `frame.insert` many times, which has poor performance.  Consider joining all columns at once using pd.concat(axis=1) instead. To get a de-fragmented frame, use `newframe = frame.copy()`\n",
      "  X_test[new_col] = X_test[frac] * X_test[prop]\n",
      "C:\\Users\\pushp\\AppData\\Local\\Temp\\ipykernel_14980\\4110252096.py:36: PerformanceWarning: DataFrame is highly fragmented.  This is usually the result of calling `frame.insert` many times, which has poor performance.  Consider joining all columns at once using pd.concat(axis=1) instead. To get a de-fragmented frame, use `newframe = frame.copy()`\n",
      "  X[new_col] = X[frac] * X[prop]\n",
      "C:\\Users\\pushp\\AppData\\Local\\Temp\\ipykernel_14980\\4110252096.py:37: PerformanceWarning: DataFrame is highly fragmented.  This is usually the result of calling `frame.insert` many times, which has poor performance.  Consider joining all columns at once using pd.concat(axis=1) instead. To get a de-fragmented frame, use `newframe = frame.copy()`\n",
      "  X_test[new_col] = X_test[frac] * X_test[prop]\n",
      "C:\\Users\\pushp\\AppData\\Local\\Temp\\ipykernel_14980\\4110252096.py:36: PerformanceWarning: DataFrame is highly fragmented.  This is usually the result of calling `frame.insert` many times, which has poor performance.  Consider joining all columns at once using pd.concat(axis=1) instead. To get a de-fragmented frame, use `newframe = frame.copy()`\n",
      "  X[new_col] = X[frac] * X[prop]\n",
      "C:\\Users\\pushp\\AppData\\Local\\Temp\\ipykernel_14980\\4110252096.py:37: PerformanceWarning: DataFrame is highly fragmented.  This is usually the result of calling `frame.insert` many times, which has poor performance.  Consider joining all columns at once using pd.concat(axis=1) instead. To get a de-fragmented frame, use `newframe = frame.copy()`\n",
      "  X_test[new_col] = X_test[frac] * X_test[prop]\n",
      "C:\\Users\\pushp\\AppData\\Local\\Temp\\ipykernel_14980\\4110252096.py:36: PerformanceWarning: DataFrame is highly fragmented.  This is usually the result of calling `frame.insert` many times, which has poor performance.  Consider joining all columns at once using pd.concat(axis=1) instead. To get a de-fragmented frame, use `newframe = frame.copy()`\n",
      "  X[new_col] = X[frac] * X[prop]\n",
      "C:\\Users\\pushp\\AppData\\Local\\Temp\\ipykernel_14980\\4110252096.py:37: PerformanceWarning: DataFrame is highly fragmented.  This is usually the result of calling `frame.insert` many times, which has poor performance.  Consider joining all columns at once using pd.concat(axis=1) instead. To get a de-fragmented frame, use `newframe = frame.copy()`\n",
      "  X_test[new_col] = X_test[frac] * X_test[prop]\n",
      "C:\\Users\\pushp\\AppData\\Local\\Temp\\ipykernel_14980\\4110252096.py:36: PerformanceWarning: DataFrame is highly fragmented.  This is usually the result of calling `frame.insert` many times, which has poor performance.  Consider joining all columns at once using pd.concat(axis=1) instead. To get a de-fragmented frame, use `newframe = frame.copy()`\n",
      "  X[new_col] = X[frac] * X[prop]\n",
      "C:\\Users\\pushp\\AppData\\Local\\Temp\\ipykernel_14980\\4110252096.py:37: PerformanceWarning: DataFrame is highly fragmented.  This is usually the result of calling `frame.insert` many times, which has poor performance.  Consider joining all columns at once using pd.concat(axis=1) instead. To get a de-fragmented frame, use `newframe = frame.copy()`\n",
      "  X_test[new_col] = X_test[frac] * X_test[prop]\n",
      "C:\\Users\\pushp\\AppData\\Local\\Temp\\ipykernel_14980\\4110252096.py:36: PerformanceWarning: DataFrame is highly fragmented.  This is usually the result of calling `frame.insert` many times, which has poor performance.  Consider joining all columns at once using pd.concat(axis=1) instead. To get a de-fragmented frame, use `newframe = frame.copy()`\n",
      "  X[new_col] = X[frac] * X[prop]\n",
      "C:\\Users\\pushp\\AppData\\Local\\Temp\\ipykernel_14980\\4110252096.py:37: PerformanceWarning: DataFrame is highly fragmented.  This is usually the result of calling `frame.insert` many times, which has poor performance.  Consider joining all columns at once using pd.concat(axis=1) instead. To get a de-fragmented frame, use `newframe = frame.copy()`\n",
      "  X_test[new_col] = X_test[frac] * X_test[prop]\n",
      "C:\\Users\\pushp\\AppData\\Local\\Temp\\ipykernel_14980\\4110252096.py:36: PerformanceWarning: DataFrame is highly fragmented.  This is usually the result of calling `frame.insert` many times, which has poor performance.  Consider joining all columns at once using pd.concat(axis=1) instead. To get a de-fragmented frame, use `newframe = frame.copy()`\n",
      "  X[new_col] = X[frac] * X[prop]\n",
      "C:\\Users\\pushp\\AppData\\Local\\Temp\\ipykernel_14980\\4110252096.py:37: PerformanceWarning: DataFrame is highly fragmented.  This is usually the result of calling `frame.insert` many times, which has poor performance.  Consider joining all columns at once using pd.concat(axis=1) instead. To get a de-fragmented frame, use `newframe = frame.copy()`\n",
      "  X_test[new_col] = X_test[frac] * X_test[prop]\n",
      "C:\\Users\\pushp\\AppData\\Local\\Temp\\ipykernel_14980\\4110252096.py:36: PerformanceWarning: DataFrame is highly fragmented.  This is usually the result of calling `frame.insert` many times, which has poor performance.  Consider joining all columns at once using pd.concat(axis=1) instead. To get a de-fragmented frame, use `newframe = frame.copy()`\n",
      "  X[new_col] = X[frac] * X[prop]\n",
      "C:\\Users\\pushp\\AppData\\Local\\Temp\\ipykernel_14980\\4110252096.py:37: PerformanceWarning: DataFrame is highly fragmented.  This is usually the result of calling `frame.insert` many times, which has poor performance.  Consider joining all columns at once using pd.concat(axis=1) instead. To get a de-fragmented frame, use `newframe = frame.copy()`\n",
      "  X_test[new_col] = X_test[frac] * X_test[prop]\n",
      "C:\\Users\\pushp\\AppData\\Local\\Temp\\ipykernel_14980\\4110252096.py:36: PerformanceWarning: DataFrame is highly fragmented.  This is usually the result of calling `frame.insert` many times, which has poor performance.  Consider joining all columns at once using pd.concat(axis=1) instead. To get a de-fragmented frame, use `newframe = frame.copy()`\n",
      "  X[new_col] = X[frac] * X[prop]\n",
      "C:\\Users\\pushp\\AppData\\Local\\Temp\\ipykernel_14980\\4110252096.py:37: PerformanceWarning: DataFrame is highly fragmented.  This is usually the result of calling `frame.insert` many times, which has poor performance.  Consider joining all columns at once using pd.concat(axis=1) instead. To get a de-fragmented frame, use `newframe = frame.copy()`\n",
      "  X_test[new_col] = X_test[frac] * X_test[prop]\n",
      "C:\\Users\\pushp\\AppData\\Local\\Temp\\ipykernel_14980\\4110252096.py:36: PerformanceWarning: DataFrame is highly fragmented.  This is usually the result of calling `frame.insert` many times, which has poor performance.  Consider joining all columns at once using pd.concat(axis=1) instead. To get a de-fragmented frame, use `newframe = frame.copy()`\n",
      "  X[new_col] = X[frac] * X[prop]\n",
      "C:\\Users\\pushp\\AppData\\Local\\Temp\\ipykernel_14980\\4110252096.py:37: PerformanceWarning: DataFrame is highly fragmented.  This is usually the result of calling `frame.insert` many times, which has poor performance.  Consider joining all columns at once using pd.concat(axis=1) instead. To get a de-fragmented frame, use `newframe = frame.copy()`\n",
      "  X_test[new_col] = X_test[frac] * X_test[prop]\n",
      "C:\\Users\\pushp\\AppData\\Local\\Temp\\ipykernel_14980\\4110252096.py:36: PerformanceWarning: DataFrame is highly fragmented.  This is usually the result of calling `frame.insert` many times, which has poor performance.  Consider joining all columns at once using pd.concat(axis=1) instead. To get a de-fragmented frame, use `newframe = frame.copy()`\n",
      "  X[new_col] = X[frac] * X[prop]\n",
      "C:\\Users\\pushp\\AppData\\Local\\Temp\\ipykernel_14980\\4110252096.py:37: PerformanceWarning: DataFrame is highly fragmented.  This is usually the result of calling `frame.insert` many times, which has poor performance.  Consider joining all columns at once using pd.concat(axis=1) instead. To get a de-fragmented frame, use `newframe = frame.copy()`\n",
      "  X_test[new_col] = X_test[frac] * X_test[prop]\n",
      "C:\\Users\\pushp\\AppData\\Local\\Temp\\ipykernel_14980\\4110252096.py:36: PerformanceWarning: DataFrame is highly fragmented.  This is usually the result of calling `frame.insert` many times, which has poor performance.  Consider joining all columns at once using pd.concat(axis=1) instead. To get a de-fragmented frame, use `newframe = frame.copy()`\n",
      "  X[new_col] = X[frac] * X[prop]\n",
      "C:\\Users\\pushp\\AppData\\Local\\Temp\\ipykernel_14980\\4110252096.py:37: PerformanceWarning: DataFrame is highly fragmented.  This is usually the result of calling `frame.insert` many times, which has poor performance.  Consider joining all columns at once using pd.concat(axis=1) instead. To get a de-fragmented frame, use `newframe = frame.copy()`\n",
      "  X_test[new_col] = X_test[frac] * X_test[prop]\n",
      "C:\\Users\\pushp\\AppData\\Local\\Temp\\ipykernel_14980\\4110252096.py:36: PerformanceWarning: DataFrame is highly fragmented.  This is usually the result of calling `frame.insert` many times, which has poor performance.  Consider joining all columns at once using pd.concat(axis=1) instead. To get a de-fragmented frame, use `newframe = frame.copy()`\n",
      "  X[new_col] = X[frac] * X[prop]\n",
      "C:\\Users\\pushp\\AppData\\Local\\Temp\\ipykernel_14980\\4110252096.py:37: PerformanceWarning: DataFrame is highly fragmented.  This is usually the result of calling `frame.insert` many times, which has poor performance.  Consider joining all columns at once using pd.concat(axis=1) instead. To get a de-fragmented frame, use `newframe = frame.copy()`\n",
      "  X_test[new_col] = X_test[frac] * X_test[prop]\n",
      "C:\\Users\\pushp\\AppData\\Local\\Temp\\ipykernel_14980\\4110252096.py:36: PerformanceWarning: DataFrame is highly fragmented.  This is usually the result of calling `frame.insert` many times, which has poor performance.  Consider joining all columns at once using pd.concat(axis=1) instead. To get a de-fragmented frame, use `newframe = frame.copy()`\n",
      "  X[new_col] = X[frac] * X[prop]\n",
      "C:\\Users\\pushp\\AppData\\Local\\Temp\\ipykernel_14980\\4110252096.py:37: PerformanceWarning: DataFrame is highly fragmented.  This is usually the result of calling `frame.insert` many times, which has poor performance.  Consider joining all columns at once using pd.concat(axis=1) instead. To get a de-fragmented frame, use `newframe = frame.copy()`\n",
      "  X_test[new_col] = X_test[frac] * X_test[prop]\n",
      "C:\\Users\\pushp\\AppData\\Local\\Temp\\ipykernel_14980\\4110252096.py:36: PerformanceWarning: DataFrame is highly fragmented.  This is usually the result of calling `frame.insert` many times, which has poor performance.  Consider joining all columns at once using pd.concat(axis=1) instead. To get a de-fragmented frame, use `newframe = frame.copy()`\n",
      "  X[new_col] = X[frac] * X[prop]\n",
      "C:\\Users\\pushp\\AppData\\Local\\Temp\\ipykernel_14980\\4110252096.py:37: PerformanceWarning: DataFrame is highly fragmented.  This is usually the result of calling `frame.insert` many times, which has poor performance.  Consider joining all columns at once using pd.concat(axis=1) instead. To get a de-fragmented frame, use `newframe = frame.copy()`\n",
      "  X_test[new_col] = X_test[frac] * X_test[prop]\n",
      "C:\\Users\\pushp\\AppData\\Local\\Temp\\ipykernel_14980\\4110252096.py:36: PerformanceWarning: DataFrame is highly fragmented.  This is usually the result of calling `frame.insert` many times, which has poor performance.  Consider joining all columns at once using pd.concat(axis=1) instead. To get a de-fragmented frame, use `newframe = frame.copy()`\n",
      "  X[new_col] = X[frac] * X[prop]\n",
      "C:\\Users\\pushp\\AppData\\Local\\Temp\\ipykernel_14980\\4110252096.py:37: PerformanceWarning: DataFrame is highly fragmented.  This is usually the result of calling `frame.insert` many times, which has poor performance.  Consider joining all columns at once using pd.concat(axis=1) instead. To get a de-fragmented frame, use `newframe = frame.copy()`\n",
      "  X_test[new_col] = X_test[frac] * X_test[prop]\n",
      "C:\\Users\\pushp\\AppData\\Local\\Temp\\ipykernel_14980\\4110252096.py:36: PerformanceWarning: DataFrame is highly fragmented.  This is usually the result of calling `frame.insert` many times, which has poor performance.  Consider joining all columns at once using pd.concat(axis=1) instead. To get a de-fragmented frame, use `newframe = frame.copy()`\n",
      "  X[new_col] = X[frac] * X[prop]\n",
      "C:\\Users\\pushp\\AppData\\Local\\Temp\\ipykernel_14980\\4110252096.py:37: PerformanceWarning: DataFrame is highly fragmented.  This is usually the result of calling `frame.insert` many times, which has poor performance.  Consider joining all columns at once using pd.concat(axis=1) instead. To get a de-fragmented frame, use `newframe = frame.copy()`\n",
      "  X_test[new_col] = X_test[frac] * X_test[prop]\n",
      "C:\\Users\\pushp\\AppData\\Local\\Temp\\ipykernel_14980\\4110252096.py:36: PerformanceWarning: DataFrame is highly fragmented.  This is usually the result of calling `frame.insert` many times, which has poor performance.  Consider joining all columns at once using pd.concat(axis=1) instead. To get a de-fragmented frame, use `newframe = frame.copy()`\n",
      "  X[new_col] = X[frac] * X[prop]\n",
      "C:\\Users\\pushp\\AppData\\Local\\Temp\\ipykernel_14980\\4110252096.py:37: PerformanceWarning: DataFrame is highly fragmented.  This is usually the result of calling `frame.insert` many times, which has poor performance.  Consider joining all columns at once using pd.concat(axis=1) instead. To get a de-fragmented frame, use `newframe = frame.copy()`\n",
      "  X_test[new_col] = X_test[frac] * X_test[prop]\n",
      "C:\\Users\\pushp\\AppData\\Local\\Temp\\ipykernel_14980\\4110252096.py:36: PerformanceWarning: DataFrame is highly fragmented.  This is usually the result of calling `frame.insert` many times, which has poor performance.  Consider joining all columns at once using pd.concat(axis=1) instead. To get a de-fragmented frame, use `newframe = frame.copy()`\n",
      "  X[new_col] = X[frac] * X[prop]\n",
      "C:\\Users\\pushp\\AppData\\Local\\Temp\\ipykernel_14980\\4110252096.py:37: PerformanceWarning: DataFrame is highly fragmented.  This is usually the result of calling `frame.insert` many times, which has poor performance.  Consider joining all columns at once using pd.concat(axis=1) instead. To get a de-fragmented frame, use `newframe = frame.copy()`\n",
      "  X_test[new_col] = X_test[frac] * X_test[prop]\n",
      "C:\\Users\\pushp\\AppData\\Local\\Temp\\ipykernel_14980\\4110252096.py:36: PerformanceWarning: DataFrame is highly fragmented.  This is usually the result of calling `frame.insert` many times, which has poor performance.  Consider joining all columns at once using pd.concat(axis=1) instead. To get a de-fragmented frame, use `newframe = frame.copy()`\n",
      "  X[new_col] = X[frac] * X[prop]\n",
      "C:\\Users\\pushp\\AppData\\Local\\Temp\\ipykernel_14980\\4110252096.py:37: PerformanceWarning: DataFrame is highly fragmented.  This is usually the result of calling `frame.insert` many times, which has poor performance.  Consider joining all columns at once using pd.concat(axis=1) instead. To get a de-fragmented frame, use `newframe = frame.copy()`\n",
      "  X_test[new_col] = X_test[frac] * X_test[prop]\n",
      "C:\\Users\\pushp\\AppData\\Local\\Temp\\ipykernel_14980\\4110252096.py:36: PerformanceWarning: DataFrame is highly fragmented.  This is usually the result of calling `frame.insert` many times, which has poor performance.  Consider joining all columns at once using pd.concat(axis=1) instead. To get a de-fragmented frame, use `newframe = frame.copy()`\n",
      "  X[new_col] = X[frac] * X[prop]\n",
      "C:\\Users\\pushp\\AppData\\Local\\Temp\\ipykernel_14980\\4110252096.py:37: PerformanceWarning: DataFrame is highly fragmented.  This is usually the result of calling `frame.insert` many times, which has poor performance.  Consider joining all columns at once using pd.concat(axis=1) instead. To get a de-fragmented frame, use `newframe = frame.copy()`\n",
      "  X_test[new_col] = X_test[frac] * X_test[prop]\n",
      "C:\\Users\\pushp\\AppData\\Local\\Temp\\ipykernel_14980\\4110252096.py:36: PerformanceWarning: DataFrame is highly fragmented.  This is usually the result of calling `frame.insert` many times, which has poor performance.  Consider joining all columns at once using pd.concat(axis=1) instead. To get a de-fragmented frame, use `newframe = frame.copy()`\n",
      "  X[new_col] = X[frac] * X[prop]\n",
      "C:\\Users\\pushp\\AppData\\Local\\Temp\\ipykernel_14980\\4110252096.py:37: PerformanceWarning: DataFrame is highly fragmented.  This is usually the result of calling `frame.insert` many times, which has poor performance.  Consider joining all columns at once using pd.concat(axis=1) instead. To get a de-fragmented frame, use `newframe = frame.copy()`\n",
      "  X_test[new_col] = X_test[frac] * X_test[prop]\n",
      "C:\\Users\\pushp\\AppData\\Local\\Temp\\ipykernel_14980\\4110252096.py:36: PerformanceWarning: DataFrame is highly fragmented.  This is usually the result of calling `frame.insert` many times, which has poor performance.  Consider joining all columns at once using pd.concat(axis=1) instead. To get a de-fragmented frame, use `newframe = frame.copy()`\n",
      "  X[new_col] = X[frac] * X[prop]\n",
      "C:\\Users\\pushp\\AppData\\Local\\Temp\\ipykernel_14980\\4110252096.py:37: PerformanceWarning: DataFrame is highly fragmented.  This is usually the result of calling `frame.insert` many times, which has poor performance.  Consider joining all columns at once using pd.concat(axis=1) instead. To get a de-fragmented frame, use `newframe = frame.copy()`\n",
      "  X_test[new_col] = X_test[frac] * X_test[prop]\n",
      "C:\\Users\\pushp\\AppData\\Local\\Temp\\ipykernel_14980\\4110252096.py:36: PerformanceWarning: DataFrame is highly fragmented.  This is usually the result of calling `frame.insert` many times, which has poor performance.  Consider joining all columns at once using pd.concat(axis=1) instead. To get a de-fragmented frame, use `newframe = frame.copy()`\n",
      "  X[new_col] = X[frac] * X[prop]\n",
      "C:\\Users\\pushp\\AppData\\Local\\Temp\\ipykernel_14980\\4110252096.py:37: PerformanceWarning: DataFrame is highly fragmented.  This is usually the result of calling `frame.insert` many times, which has poor performance.  Consider joining all columns at once using pd.concat(axis=1) instead. To get a de-fragmented frame, use `newframe = frame.copy()`\n",
      "  X_test[new_col] = X_test[frac] * X_test[prop]\n",
      "C:\\Users\\pushp\\AppData\\Local\\Temp\\ipykernel_14980\\4110252096.py:36: PerformanceWarning: DataFrame is highly fragmented.  This is usually the result of calling `frame.insert` many times, which has poor performance.  Consider joining all columns at once using pd.concat(axis=1) instead. To get a de-fragmented frame, use `newframe = frame.copy()`\n",
      "  X[new_col] = X[frac] * X[prop]\n",
      "C:\\Users\\pushp\\AppData\\Local\\Temp\\ipykernel_14980\\4110252096.py:37: PerformanceWarning: DataFrame is highly fragmented.  This is usually the result of calling `frame.insert` many times, which has poor performance.  Consider joining all columns at once using pd.concat(axis=1) instead. To get a de-fragmented frame, use `newframe = frame.copy()`\n",
      "  X_test[new_col] = X_test[frac] * X_test[prop]\n",
      "C:\\Users\\pushp\\AppData\\Local\\Temp\\ipykernel_14980\\4110252096.py:36: PerformanceWarning: DataFrame is highly fragmented.  This is usually the result of calling `frame.insert` many times, which has poor performance.  Consider joining all columns at once using pd.concat(axis=1) instead. To get a de-fragmented frame, use `newframe = frame.copy()`\n",
      "  X[new_col] = X[frac] * X[prop]\n",
      "C:\\Users\\pushp\\AppData\\Local\\Temp\\ipykernel_14980\\4110252096.py:37: PerformanceWarning: DataFrame is highly fragmented.  This is usually the result of calling `frame.insert` many times, which has poor performance.  Consider joining all columns at once using pd.concat(axis=1) instead. To get a de-fragmented frame, use `newframe = frame.copy()`\n",
      "  X_test[new_col] = X_test[frac] * X_test[prop]\n",
      "C:\\Users\\pushp\\AppData\\Local\\Temp\\ipykernel_14980\\4110252096.py:36: PerformanceWarning: DataFrame is highly fragmented.  This is usually the result of calling `frame.insert` many times, which has poor performance.  Consider joining all columns at once using pd.concat(axis=1) instead. To get a de-fragmented frame, use `newframe = frame.copy()`\n",
      "  X[new_col] = X[frac] * X[prop]\n",
      "C:\\Users\\pushp\\AppData\\Local\\Temp\\ipykernel_14980\\4110252096.py:37: PerformanceWarning: DataFrame is highly fragmented.  This is usually the result of calling `frame.insert` many times, which has poor performance.  Consider joining all columns at once using pd.concat(axis=1) instead. To get a de-fragmented frame, use `newframe = frame.copy()`\n",
      "  X_test[new_col] = X_test[frac] * X_test[prop]\n",
      "C:\\Users\\pushp\\AppData\\Local\\Temp\\ipykernel_14980\\4110252096.py:36: PerformanceWarning: DataFrame is highly fragmented.  This is usually the result of calling `frame.insert` many times, which has poor performance.  Consider joining all columns at once using pd.concat(axis=1) instead. To get a de-fragmented frame, use `newframe = frame.copy()`\n",
      "  X[new_col] = X[frac] * X[prop]\n",
      "C:\\Users\\pushp\\AppData\\Local\\Temp\\ipykernel_14980\\4110252096.py:37: PerformanceWarning: DataFrame is highly fragmented.  This is usually the result of calling `frame.insert` many times, which has poor performance.  Consider joining all columns at once using pd.concat(axis=1) instead. To get a de-fragmented frame, use `newframe = frame.copy()`\n",
      "  X_test[new_col] = X_test[frac] * X_test[prop]\n",
      "C:\\Users\\pushp\\AppData\\Local\\Temp\\ipykernel_14980\\4110252096.py:36: PerformanceWarning: DataFrame is highly fragmented.  This is usually the result of calling `frame.insert` many times, which has poor performance.  Consider joining all columns at once using pd.concat(axis=1) instead. To get a de-fragmented frame, use `newframe = frame.copy()`\n",
      "  X[new_col] = X[frac] * X[prop]\n",
      "C:\\Users\\pushp\\AppData\\Local\\Temp\\ipykernel_14980\\4110252096.py:37: PerformanceWarning: DataFrame is highly fragmented.  This is usually the result of calling `frame.insert` many times, which has poor performance.  Consider joining all columns at once using pd.concat(axis=1) instead. To get a de-fragmented frame, use `newframe = frame.copy()`\n",
      "  X_test[new_col] = X_test[frac] * X_test[prop]\n",
      "C:\\Users\\pushp\\AppData\\Local\\Temp\\ipykernel_14980\\4110252096.py:36: PerformanceWarning: DataFrame is highly fragmented.  This is usually the result of calling `frame.insert` many times, which has poor performance.  Consider joining all columns at once using pd.concat(axis=1) instead. To get a de-fragmented frame, use `newframe = frame.copy()`\n",
      "  X[new_col] = X[frac] * X[prop]\n",
      "C:\\Users\\pushp\\AppData\\Local\\Temp\\ipykernel_14980\\4110252096.py:37: PerformanceWarning: DataFrame is highly fragmented.  This is usually the result of calling `frame.insert` many times, which has poor performance.  Consider joining all columns at once using pd.concat(axis=1) instead. To get a de-fragmented frame, use `newframe = frame.copy()`\n",
      "  X_test[new_col] = X_test[frac] * X_test[prop]\n",
      "C:\\Users\\pushp\\AppData\\Local\\Temp\\ipykernel_14980\\4110252096.py:36: PerformanceWarning: DataFrame is highly fragmented.  This is usually the result of calling `frame.insert` many times, which has poor performance.  Consider joining all columns at once using pd.concat(axis=1) instead. To get a de-fragmented frame, use `newframe = frame.copy()`\n",
      "  X[new_col] = X[frac] * X[prop]\n",
      "C:\\Users\\pushp\\AppData\\Local\\Temp\\ipykernel_14980\\4110252096.py:37: PerformanceWarning: DataFrame is highly fragmented.  This is usually the result of calling `frame.insert` many times, which has poor performance.  Consider joining all columns at once using pd.concat(axis=1) instead. To get a de-fragmented frame, use `newframe = frame.copy()`\n",
      "  X_test[new_col] = X_test[frac] * X_test[prop]\n",
      "C:\\Users\\pushp\\AppData\\Local\\Temp\\ipykernel_14980\\4110252096.py:36: PerformanceWarning: DataFrame is highly fragmented.  This is usually the result of calling `frame.insert` many times, which has poor performance.  Consider joining all columns at once using pd.concat(axis=1) instead. To get a de-fragmented frame, use `newframe = frame.copy()`\n",
      "  X[new_col] = X[frac] * X[prop]\n",
      "C:\\Users\\pushp\\AppData\\Local\\Temp\\ipykernel_14980\\4110252096.py:37: PerformanceWarning: DataFrame is highly fragmented.  This is usually the result of calling `frame.insert` many times, which has poor performance.  Consider joining all columns at once using pd.concat(axis=1) instead. To get a de-fragmented frame, use `newframe = frame.copy()`\n",
      "  X_test[new_col] = X_test[frac] * X_test[prop]\n",
      "C:\\Users\\pushp\\AppData\\Local\\Temp\\ipykernel_14980\\4110252096.py:36: PerformanceWarning: DataFrame is highly fragmented.  This is usually the result of calling `frame.insert` many times, which has poor performance.  Consider joining all columns at once using pd.concat(axis=1) instead. To get a de-fragmented frame, use `newframe = frame.copy()`\n",
      "  X[new_col] = X[frac] * X[prop]\n",
      "C:\\Users\\pushp\\AppData\\Local\\Temp\\ipykernel_14980\\4110252096.py:37: PerformanceWarning: DataFrame is highly fragmented.  This is usually the result of calling `frame.insert` many times, which has poor performance.  Consider joining all columns at once using pd.concat(axis=1) instead. To get a de-fragmented frame, use `newframe = frame.copy()`\n",
      "  X_test[new_col] = X_test[frac] * X_test[prop]\n",
      "C:\\Users\\pushp\\AppData\\Local\\Temp\\ipykernel_14980\\4110252096.py:36: PerformanceWarning: DataFrame is highly fragmented.  This is usually the result of calling `frame.insert` many times, which has poor performance.  Consider joining all columns at once using pd.concat(axis=1) instead. To get a de-fragmented frame, use `newframe = frame.copy()`\n",
      "  X[new_col] = X[frac] * X[prop]\n",
      "C:\\Users\\pushp\\AppData\\Local\\Temp\\ipykernel_14980\\4110252096.py:37: PerformanceWarning: DataFrame is highly fragmented.  This is usually the result of calling `frame.insert` many times, which has poor performance.  Consider joining all columns at once using pd.concat(axis=1) instead. To get a de-fragmented frame, use `newframe = frame.copy()`\n",
      "  X_test[new_col] = X_test[frac] * X_test[prop]\n",
      "C:\\Users\\pushp\\AppData\\Local\\Temp\\ipykernel_14980\\4110252096.py:36: PerformanceWarning: DataFrame is highly fragmented.  This is usually the result of calling `frame.insert` many times, which has poor performance.  Consider joining all columns at once using pd.concat(axis=1) instead. To get a de-fragmented frame, use `newframe = frame.copy()`\n",
      "  X[new_col] = X[frac] * X[prop]\n",
      "C:\\Users\\pushp\\AppData\\Local\\Temp\\ipykernel_14980\\4110252096.py:37: PerformanceWarning: DataFrame is highly fragmented.  This is usually the result of calling `frame.insert` many times, which has poor performance.  Consider joining all columns at once using pd.concat(axis=1) instead. To get a de-fragmented frame, use `newframe = frame.copy()`\n",
      "  X_test[new_col] = X_test[frac] * X_test[prop]\n",
      "C:\\Users\\pushp\\AppData\\Local\\Temp\\ipykernel_14980\\4110252096.py:36: PerformanceWarning: DataFrame is highly fragmented.  This is usually the result of calling `frame.insert` many times, which has poor performance.  Consider joining all columns at once using pd.concat(axis=1) instead. To get a de-fragmented frame, use `newframe = frame.copy()`\n",
      "  X[new_col] = X[frac] * X[prop]\n",
      "C:\\Users\\pushp\\AppData\\Local\\Temp\\ipykernel_14980\\4110252096.py:37: PerformanceWarning: DataFrame is highly fragmented.  This is usually the result of calling `frame.insert` many times, which has poor performance.  Consider joining all columns at once using pd.concat(axis=1) instead. To get a de-fragmented frame, use `newframe = frame.copy()`\n",
      "  X_test[new_col] = X_test[frac] * X_test[prop]\n",
      "C:\\Users\\pushp\\AppData\\Local\\Temp\\ipykernel_14980\\4110252096.py:36: PerformanceWarning: DataFrame is highly fragmented.  This is usually the result of calling `frame.insert` many times, which has poor performance.  Consider joining all columns at once using pd.concat(axis=1) instead. To get a de-fragmented frame, use `newframe = frame.copy()`\n",
      "  X[new_col] = X[frac] * X[prop]\n",
      "C:\\Users\\pushp\\AppData\\Local\\Temp\\ipykernel_14980\\4110252096.py:37: PerformanceWarning: DataFrame is highly fragmented.  This is usually the result of calling `frame.insert` many times, which has poor performance.  Consider joining all columns at once using pd.concat(axis=1) instead. To get a de-fragmented frame, use `newframe = frame.copy()`\n",
      "  X_test[new_col] = X_test[frac] * X_test[prop]\n",
      "C:\\Users\\pushp\\AppData\\Local\\Temp\\ipykernel_14980\\4110252096.py:36: PerformanceWarning: DataFrame is highly fragmented.  This is usually the result of calling `frame.insert` many times, which has poor performance.  Consider joining all columns at once using pd.concat(axis=1) instead. To get a de-fragmented frame, use `newframe = frame.copy()`\n",
      "  X[new_col] = X[frac] * X[prop]\n",
      "C:\\Users\\pushp\\AppData\\Local\\Temp\\ipykernel_14980\\4110252096.py:37: PerformanceWarning: DataFrame is highly fragmented.  This is usually the result of calling `frame.insert` many times, which has poor performance.  Consider joining all columns at once using pd.concat(axis=1) instead. To get a de-fragmented frame, use `newframe = frame.copy()`\n",
      "  X_test[new_col] = X_test[frac] * X_test[prop]\n",
      "C:\\Users\\pushp\\AppData\\Local\\Temp\\ipykernel_14980\\4110252096.py:36: PerformanceWarning: DataFrame is highly fragmented.  This is usually the result of calling `frame.insert` many times, which has poor performance.  Consider joining all columns at once using pd.concat(axis=1) instead. To get a de-fragmented frame, use `newframe = frame.copy()`\n",
      "  X[new_col] = X[frac] * X[prop]\n",
      "C:\\Users\\pushp\\AppData\\Local\\Temp\\ipykernel_14980\\4110252096.py:37: PerformanceWarning: DataFrame is highly fragmented.  This is usually the result of calling `frame.insert` many times, which has poor performance.  Consider joining all columns at once using pd.concat(axis=1) instead. To get a de-fragmented frame, use `newframe = frame.copy()`\n",
      "  X_test[new_col] = X_test[frac] * X_test[prop]\n",
      "C:\\Users\\pushp\\AppData\\Local\\Temp\\ipykernel_14980\\4110252096.py:36: PerformanceWarning: DataFrame is highly fragmented.  This is usually the result of calling `frame.insert` many times, which has poor performance.  Consider joining all columns at once using pd.concat(axis=1) instead. To get a de-fragmented frame, use `newframe = frame.copy()`\n",
      "  X[new_col] = X[frac] * X[prop]\n",
      "C:\\Users\\pushp\\AppData\\Local\\Temp\\ipykernel_14980\\4110252096.py:37: PerformanceWarning: DataFrame is highly fragmented.  This is usually the result of calling `frame.insert` many times, which has poor performance.  Consider joining all columns at once using pd.concat(axis=1) instead. To get a de-fragmented frame, use `newframe = frame.copy()`\n",
      "  X_test[new_col] = X_test[frac] * X_test[prop]\n",
      "C:\\Users\\pushp\\AppData\\Local\\Temp\\ipykernel_14980\\4110252096.py:36: PerformanceWarning: DataFrame is highly fragmented.  This is usually the result of calling `frame.insert` many times, which has poor performance.  Consider joining all columns at once using pd.concat(axis=1) instead. To get a de-fragmented frame, use `newframe = frame.copy()`\n",
      "  X[new_col] = X[frac] * X[prop]\n",
      "C:\\Users\\pushp\\AppData\\Local\\Temp\\ipykernel_14980\\4110252096.py:37: PerformanceWarning: DataFrame is highly fragmented.  This is usually the result of calling `frame.insert` many times, which has poor performance.  Consider joining all columns at once using pd.concat(axis=1) instead. To get a de-fragmented frame, use `newframe = frame.copy()`\n",
      "  X_test[new_col] = X_test[frac] * X_test[prop]\n",
      "C:\\Users\\pushp\\AppData\\Local\\Temp\\ipykernel_14980\\4110252096.py:36: PerformanceWarning: DataFrame is highly fragmented.  This is usually the result of calling `frame.insert` many times, which has poor performance.  Consider joining all columns at once using pd.concat(axis=1) instead. To get a de-fragmented frame, use `newframe = frame.copy()`\n",
      "  X[new_col] = X[frac] * X[prop]\n",
      "C:\\Users\\pushp\\AppData\\Local\\Temp\\ipykernel_14980\\4110252096.py:37: PerformanceWarning: DataFrame is highly fragmented.  This is usually the result of calling `frame.insert` many times, which has poor performance.  Consider joining all columns at once using pd.concat(axis=1) instead. To get a de-fragmented frame, use `newframe = frame.copy()`\n",
      "  X_test[new_col] = X_test[frac] * X_test[prop]\n",
      "C:\\Users\\pushp\\AppData\\Local\\Temp\\ipykernel_14980\\4110252096.py:36: PerformanceWarning: DataFrame is highly fragmented.  This is usually the result of calling `frame.insert` many times, which has poor performance.  Consider joining all columns at once using pd.concat(axis=1) instead. To get a de-fragmented frame, use `newframe = frame.copy()`\n",
      "  X[new_col] = X[frac] * X[prop]\n",
      "C:\\Users\\pushp\\AppData\\Local\\Temp\\ipykernel_14980\\4110252096.py:37: PerformanceWarning: DataFrame is highly fragmented.  This is usually the result of calling `frame.insert` many times, which has poor performance.  Consider joining all columns at once using pd.concat(axis=1) instead. To get a de-fragmented frame, use `newframe = frame.copy()`\n",
      "  X_test[new_col] = X_test[frac] * X_test[prop]\n",
      "C:\\Users\\pushp\\AppData\\Local\\Temp\\ipykernel_14980\\4110252096.py:36: PerformanceWarning: DataFrame is highly fragmented.  This is usually the result of calling `frame.insert` many times, which has poor performance.  Consider joining all columns at once using pd.concat(axis=1) instead. To get a de-fragmented frame, use `newframe = frame.copy()`\n",
      "  X[new_col] = X[frac] * X[prop]\n",
      "C:\\Users\\pushp\\AppData\\Local\\Temp\\ipykernel_14980\\4110252096.py:37: PerformanceWarning: DataFrame is highly fragmented.  This is usually the result of calling `frame.insert` many times, which has poor performance.  Consider joining all columns at once using pd.concat(axis=1) instead. To get a de-fragmented frame, use `newframe = frame.copy()`\n",
      "  X_test[new_col] = X_test[frac] * X_test[prop]\n",
      "C:\\Users\\pushp\\AppData\\Local\\Temp\\ipykernel_14980\\4110252096.py:36: PerformanceWarning: DataFrame is highly fragmented.  This is usually the result of calling `frame.insert` many times, which has poor performance.  Consider joining all columns at once using pd.concat(axis=1) instead. To get a de-fragmented frame, use `newframe = frame.copy()`\n",
      "  X[new_col] = X[frac] * X[prop]\n",
      "C:\\Users\\pushp\\AppData\\Local\\Temp\\ipykernel_14980\\4110252096.py:37: PerformanceWarning: DataFrame is highly fragmented.  This is usually the result of calling `frame.insert` many times, which has poor performance.  Consider joining all columns at once using pd.concat(axis=1) instead. To get a de-fragmented frame, use `newframe = frame.copy()`\n",
      "  X_test[new_col] = X_test[frac] * X_test[prop]\n",
      "C:\\Users\\pushp\\AppData\\Local\\Temp\\ipykernel_14980\\4110252096.py:36: PerformanceWarning: DataFrame is highly fragmented.  This is usually the result of calling `frame.insert` many times, which has poor performance.  Consider joining all columns at once using pd.concat(axis=1) instead. To get a de-fragmented frame, use `newframe = frame.copy()`\n",
      "  X[new_col] = X[frac] * X[prop]\n",
      "C:\\Users\\pushp\\AppData\\Local\\Temp\\ipykernel_14980\\4110252096.py:37: PerformanceWarning: DataFrame is highly fragmented.  This is usually the result of calling `frame.insert` many times, which has poor performance.  Consider joining all columns at once using pd.concat(axis=1) instead. To get a de-fragmented frame, use `newframe = frame.copy()`\n",
      "  X_test[new_col] = X_test[frac] * X_test[prop]\n",
      "C:\\Users\\pushp\\AppData\\Local\\Temp\\ipykernel_14980\\4110252096.py:36: PerformanceWarning: DataFrame is highly fragmented.  This is usually the result of calling `frame.insert` many times, which has poor performance.  Consider joining all columns at once using pd.concat(axis=1) instead. To get a de-fragmented frame, use `newframe = frame.copy()`\n",
      "  X[new_col] = X[frac] * X[prop]\n",
      "C:\\Users\\pushp\\AppData\\Local\\Temp\\ipykernel_14980\\4110252096.py:37: PerformanceWarning: DataFrame is highly fragmented.  This is usually the result of calling `frame.insert` many times, which has poor performance.  Consider joining all columns at once using pd.concat(axis=1) instead. To get a de-fragmented frame, use `newframe = frame.copy()`\n",
      "  X_test[new_col] = X_test[frac] * X_test[prop]\n",
      "C:\\Users\\pushp\\AppData\\Local\\Temp\\ipykernel_14980\\4110252096.py:36: PerformanceWarning: DataFrame is highly fragmented.  This is usually the result of calling `frame.insert` many times, which has poor performance.  Consider joining all columns at once using pd.concat(axis=1) instead. To get a de-fragmented frame, use `newframe = frame.copy()`\n",
      "  X[new_col] = X[frac] * X[prop]\n",
      "C:\\Users\\pushp\\AppData\\Local\\Temp\\ipykernel_14980\\4110252096.py:37: PerformanceWarning: DataFrame is highly fragmented.  This is usually the result of calling `frame.insert` many times, which has poor performance.  Consider joining all columns at once using pd.concat(axis=1) instead. To get a de-fragmented frame, use `newframe = frame.copy()`\n",
      "  X_test[new_col] = X_test[frac] * X_test[prop]\n",
      "C:\\Users\\pushp\\AppData\\Local\\Temp\\ipykernel_14980\\4110252096.py:36: PerformanceWarning: DataFrame is highly fragmented.  This is usually the result of calling `frame.insert` many times, which has poor performance.  Consider joining all columns at once using pd.concat(axis=1) instead. To get a de-fragmented frame, use `newframe = frame.copy()`\n",
      "  X[new_col] = X[frac] * X[prop]\n",
      "C:\\Users\\pushp\\AppData\\Local\\Temp\\ipykernel_14980\\4110252096.py:37: PerformanceWarning: DataFrame is highly fragmented.  This is usually the result of calling `frame.insert` many times, which has poor performance.  Consider joining all columns at once using pd.concat(axis=1) instead. To get a de-fragmented frame, use `newframe = frame.copy()`\n",
      "  X_test[new_col] = X_test[frac] * X_test[prop]\n",
      "C:\\Users\\pushp\\AppData\\Local\\Temp\\ipykernel_14980\\4110252096.py:36: PerformanceWarning: DataFrame is highly fragmented.  This is usually the result of calling `frame.insert` many times, which has poor performance.  Consider joining all columns at once using pd.concat(axis=1) instead. To get a de-fragmented frame, use `newframe = frame.copy()`\n",
      "  X[new_col] = X[frac] * X[prop]\n",
      "C:\\Users\\pushp\\AppData\\Local\\Temp\\ipykernel_14980\\4110252096.py:37: PerformanceWarning: DataFrame is highly fragmented.  This is usually the result of calling `frame.insert` many times, which has poor performance.  Consider joining all columns at once using pd.concat(axis=1) instead. To get a de-fragmented frame, use `newframe = frame.copy()`\n",
      "  X_test[new_col] = X_test[frac] * X_test[prop]\n",
      "C:\\Users\\pushp\\AppData\\Local\\Temp\\ipykernel_14980\\4110252096.py:36: PerformanceWarning: DataFrame is highly fragmented.  This is usually the result of calling `frame.insert` many times, which has poor performance.  Consider joining all columns at once using pd.concat(axis=1) instead. To get a de-fragmented frame, use `newframe = frame.copy()`\n",
      "  X[new_col] = X[frac] * X[prop]\n",
      "C:\\Users\\pushp\\AppData\\Local\\Temp\\ipykernel_14980\\4110252096.py:37: PerformanceWarning: DataFrame is highly fragmented.  This is usually the result of calling `frame.insert` many times, which has poor performance.  Consider joining all columns at once using pd.concat(axis=1) instead. To get a de-fragmented frame, use `newframe = frame.copy()`\n",
      "  X_test[new_col] = X_test[frac] * X_test[prop]\n",
      "C:\\Users\\pushp\\AppData\\Local\\Temp\\ipykernel_14980\\4110252096.py:36: PerformanceWarning: DataFrame is highly fragmented.  This is usually the result of calling `frame.insert` many times, which has poor performance.  Consider joining all columns at once using pd.concat(axis=1) instead. To get a de-fragmented frame, use `newframe = frame.copy()`\n",
      "  X[new_col] = X[frac] * X[prop]\n",
      "C:\\Users\\pushp\\AppData\\Local\\Temp\\ipykernel_14980\\4110252096.py:37: PerformanceWarning: DataFrame is highly fragmented.  This is usually the result of calling `frame.insert` many times, which has poor performance.  Consider joining all columns at once using pd.concat(axis=1) instead. To get a de-fragmented frame, use `newframe = frame.copy()`\n",
      "  X_test[new_col] = X_test[frac] * X_test[prop]\n",
      "C:\\Users\\pushp\\AppData\\Local\\Temp\\ipykernel_14980\\4110252096.py:36: PerformanceWarning: DataFrame is highly fragmented.  This is usually the result of calling `frame.insert` many times, which has poor performance.  Consider joining all columns at once using pd.concat(axis=1) instead. To get a de-fragmented frame, use `newframe = frame.copy()`\n",
      "  X[new_col] = X[frac] * X[prop]\n",
      "C:\\Users\\pushp\\AppData\\Local\\Temp\\ipykernel_14980\\4110252096.py:37: PerformanceWarning: DataFrame is highly fragmented.  This is usually the result of calling `frame.insert` many times, which has poor performance.  Consider joining all columns at once using pd.concat(axis=1) instead. To get a de-fragmented frame, use `newframe = frame.copy()`\n",
      "  X_test[new_col] = X_test[frac] * X_test[prop]\n",
      "C:\\Users\\pushp\\AppData\\Local\\Temp\\ipykernel_14980\\4110252096.py:36: PerformanceWarning: DataFrame is highly fragmented.  This is usually the result of calling `frame.insert` many times, which has poor performance.  Consider joining all columns at once using pd.concat(axis=1) instead. To get a de-fragmented frame, use `newframe = frame.copy()`\n",
      "  X[new_col] = X[frac] * X[prop]\n",
      "C:\\Users\\pushp\\AppData\\Local\\Temp\\ipykernel_14980\\4110252096.py:37: PerformanceWarning: DataFrame is highly fragmented.  This is usually the result of calling `frame.insert` many times, which has poor performance.  Consider joining all columns at once using pd.concat(axis=1) instead. To get a de-fragmented frame, use `newframe = frame.copy()`\n",
      "  X_test[new_col] = X_test[frac] * X_test[prop]\n",
      "C:\\Users\\pushp\\AppData\\Local\\Temp\\ipykernel_14980\\4110252096.py:36: PerformanceWarning: DataFrame is highly fragmented.  This is usually the result of calling `frame.insert` many times, which has poor performance.  Consider joining all columns at once using pd.concat(axis=1) instead. To get a de-fragmented frame, use `newframe = frame.copy()`\n",
      "  X[new_col] = X[frac] * X[prop]\n",
      "C:\\Users\\pushp\\AppData\\Local\\Temp\\ipykernel_14980\\4110252096.py:37: PerformanceWarning: DataFrame is highly fragmented.  This is usually the result of calling `frame.insert` many times, which has poor performance.  Consider joining all columns at once using pd.concat(axis=1) instead. To get a de-fragmented frame, use `newframe = frame.copy()`\n",
      "  X_test[new_col] = X_test[frac] * X_test[prop]\n",
      "C:\\Users\\pushp\\AppData\\Local\\Temp\\ipykernel_14980\\4110252096.py:36: PerformanceWarning: DataFrame is highly fragmented.  This is usually the result of calling `frame.insert` many times, which has poor performance.  Consider joining all columns at once using pd.concat(axis=1) instead. To get a de-fragmented frame, use `newframe = frame.copy()`\n",
      "  X[new_col] = X[frac] * X[prop]\n",
      "C:\\Users\\pushp\\AppData\\Local\\Temp\\ipykernel_14980\\4110252096.py:37: PerformanceWarning: DataFrame is highly fragmented.  This is usually the result of calling `frame.insert` many times, which has poor performance.  Consider joining all columns at once using pd.concat(axis=1) instead. To get a de-fragmented frame, use `newframe = frame.copy()`\n",
      "  X_test[new_col] = X_test[frac] * X_test[prop]\n",
      "C:\\Users\\pushp\\AppData\\Local\\Temp\\ipykernel_14980\\4110252096.py:36: PerformanceWarning: DataFrame is highly fragmented.  This is usually the result of calling `frame.insert` many times, which has poor performance.  Consider joining all columns at once using pd.concat(axis=1) instead. To get a de-fragmented frame, use `newframe = frame.copy()`\n",
      "  X[new_col] = X[frac] * X[prop]\n",
      "C:\\Users\\pushp\\AppData\\Local\\Temp\\ipykernel_14980\\4110252096.py:37: PerformanceWarning: DataFrame is highly fragmented.  This is usually the result of calling `frame.insert` many times, which has poor performance.  Consider joining all columns at once using pd.concat(axis=1) instead. To get a de-fragmented frame, use `newframe = frame.copy()`\n",
      "  X_test[new_col] = X_test[frac] * X_test[prop]\n",
      "C:\\Users\\pushp\\AppData\\Local\\Temp\\ipykernel_14980\\4110252096.py:36: PerformanceWarning: DataFrame is highly fragmented.  This is usually the result of calling `frame.insert` many times, which has poor performance.  Consider joining all columns at once using pd.concat(axis=1) instead. To get a de-fragmented frame, use `newframe = frame.copy()`\n",
      "  X[new_col] = X[frac] * X[prop]\n",
      "C:\\Users\\pushp\\AppData\\Local\\Temp\\ipykernel_14980\\4110252096.py:37: PerformanceWarning: DataFrame is highly fragmented.  This is usually the result of calling `frame.insert` many times, which has poor performance.  Consider joining all columns at once using pd.concat(axis=1) instead. To get a de-fragmented frame, use `newframe = frame.copy()`\n",
      "  X_test[new_col] = X_test[frac] * X_test[prop]\n",
      "C:\\Users\\pushp\\AppData\\Local\\Temp\\ipykernel_14980\\4110252096.py:36: PerformanceWarning: DataFrame is highly fragmented.  This is usually the result of calling `frame.insert` many times, which has poor performance.  Consider joining all columns at once using pd.concat(axis=1) instead. To get a de-fragmented frame, use `newframe = frame.copy()`\n",
      "  X[new_col] = X[frac] * X[prop]\n",
      "C:\\Users\\pushp\\AppData\\Local\\Temp\\ipykernel_14980\\4110252096.py:37: PerformanceWarning: DataFrame is highly fragmented.  This is usually the result of calling `frame.insert` many times, which has poor performance.  Consider joining all columns at once using pd.concat(axis=1) instead. To get a de-fragmented frame, use `newframe = frame.copy()`\n",
      "  X_test[new_col] = X_test[frac] * X_test[prop]\n",
      "C:\\Users\\pushp\\AppData\\Local\\Temp\\ipykernel_14980\\4110252096.py:36: PerformanceWarning: DataFrame is highly fragmented.  This is usually the result of calling `frame.insert` many times, which has poor performance.  Consider joining all columns at once using pd.concat(axis=1) instead. To get a de-fragmented frame, use `newframe = frame.copy()`\n",
      "  X[new_col] = X[frac] * X[prop]\n",
      "C:\\Users\\pushp\\AppData\\Local\\Temp\\ipykernel_14980\\4110252096.py:37: PerformanceWarning: DataFrame is highly fragmented.  This is usually the result of calling `frame.insert` many times, which has poor performance.  Consider joining all columns at once using pd.concat(axis=1) instead. To get a de-fragmented frame, use `newframe = frame.copy()`\n",
      "  X_test[new_col] = X_test[frac] * X_test[prop]\n",
      "C:\\Users\\pushp\\AppData\\Local\\Temp\\ipykernel_14980\\4110252096.py:36: PerformanceWarning: DataFrame is highly fragmented.  This is usually the result of calling `frame.insert` many times, which has poor performance.  Consider joining all columns at once using pd.concat(axis=1) instead. To get a de-fragmented frame, use `newframe = frame.copy()`\n",
      "  X[new_col] = X[frac] * X[prop]\n",
      "C:\\Users\\pushp\\AppData\\Local\\Temp\\ipykernel_14980\\4110252096.py:37: PerformanceWarning: DataFrame is highly fragmented.  This is usually the result of calling `frame.insert` many times, which has poor performance.  Consider joining all columns at once using pd.concat(axis=1) instead. To get a de-fragmented frame, use `newframe = frame.copy()`\n",
      "  X_test[new_col] = X_test[frac] * X_test[prop]\n",
      "C:\\Users\\pushp\\AppData\\Local\\Temp\\ipykernel_14980\\4110252096.py:36: PerformanceWarning: DataFrame is highly fragmented.  This is usually the result of calling `frame.insert` many times, which has poor performance.  Consider joining all columns at once using pd.concat(axis=1) instead. To get a de-fragmented frame, use `newframe = frame.copy()`\n",
      "  X[new_col] = X[frac] * X[prop]\n",
      "C:\\Users\\pushp\\AppData\\Local\\Temp\\ipykernel_14980\\4110252096.py:37: PerformanceWarning: DataFrame is highly fragmented.  This is usually the result of calling `frame.insert` many times, which has poor performance.  Consider joining all columns at once using pd.concat(axis=1) instead. To get a de-fragmented frame, use `newframe = frame.copy()`\n",
      "  X_test[new_col] = X_test[frac] * X_test[prop]\n",
      "C:\\Users\\pushp\\AppData\\Local\\Temp\\ipykernel_14980\\4110252096.py:36: PerformanceWarning: DataFrame is highly fragmented.  This is usually the result of calling `frame.insert` many times, which has poor performance.  Consider joining all columns at once using pd.concat(axis=1) instead. To get a de-fragmented frame, use `newframe = frame.copy()`\n",
      "  X[new_col] = X[frac] * X[prop]\n",
      "C:\\Users\\pushp\\AppData\\Local\\Temp\\ipykernel_14980\\4110252096.py:37: PerformanceWarning: DataFrame is highly fragmented.  This is usually the result of calling `frame.insert` many times, which has poor performance.  Consider joining all columns at once using pd.concat(axis=1) instead. To get a de-fragmented frame, use `newframe = frame.copy()`\n",
      "  X_test[new_col] = X_test[frac] * X_test[prop]\n",
      "C:\\Users\\pushp\\AppData\\Local\\Temp\\ipykernel_14980\\4110252096.py:36: PerformanceWarning: DataFrame is highly fragmented.  This is usually the result of calling `frame.insert` many times, which has poor performance.  Consider joining all columns at once using pd.concat(axis=1) instead. To get a de-fragmented frame, use `newframe = frame.copy()`\n",
      "  X[new_col] = X[frac] * X[prop]\n",
      "C:\\Users\\pushp\\AppData\\Local\\Temp\\ipykernel_14980\\4110252096.py:37: PerformanceWarning: DataFrame is highly fragmented.  This is usually the result of calling `frame.insert` many times, which has poor performance.  Consider joining all columns at once using pd.concat(axis=1) instead. To get a de-fragmented frame, use `newframe = frame.copy()`\n",
      "  X_test[new_col] = X_test[frac] * X_test[prop]\n",
      "C:\\Users\\pushp\\AppData\\Local\\Temp\\ipykernel_14980\\4110252096.py:36: PerformanceWarning: DataFrame is highly fragmented.  This is usually the result of calling `frame.insert` many times, which has poor performance.  Consider joining all columns at once using pd.concat(axis=1) instead. To get a de-fragmented frame, use `newframe = frame.copy()`\n",
      "  X[new_col] = X[frac] * X[prop]\n",
      "C:\\Users\\pushp\\AppData\\Local\\Temp\\ipykernel_14980\\4110252096.py:37: PerformanceWarning: DataFrame is highly fragmented.  This is usually the result of calling `frame.insert` many times, which has poor performance.  Consider joining all columns at once using pd.concat(axis=1) instead. To get a de-fragmented frame, use `newframe = frame.copy()`\n",
      "  X_test[new_col] = X_test[frac] * X_test[prop]\n",
      "C:\\Users\\pushp\\AppData\\Local\\Temp\\ipykernel_14980\\4110252096.py:36: PerformanceWarning: DataFrame is highly fragmented.  This is usually the result of calling `frame.insert` many times, which has poor performance.  Consider joining all columns at once using pd.concat(axis=1) instead. To get a de-fragmented frame, use `newframe = frame.copy()`\n",
      "  X[new_col] = X[frac] * X[prop]\n",
      "C:\\Users\\pushp\\AppData\\Local\\Temp\\ipykernel_14980\\4110252096.py:37: PerformanceWarning: DataFrame is highly fragmented.  This is usually the result of calling `frame.insert` many times, which has poor performance.  Consider joining all columns at once using pd.concat(axis=1) instead. To get a de-fragmented frame, use `newframe = frame.copy()`\n",
      "  X_test[new_col] = X_test[frac] * X_test[prop]\n",
      "C:\\Users\\pushp\\AppData\\Local\\Temp\\ipykernel_14980\\4110252096.py:36: PerformanceWarning: DataFrame is highly fragmented.  This is usually the result of calling `frame.insert` many times, which has poor performance.  Consider joining all columns at once using pd.concat(axis=1) instead. To get a de-fragmented frame, use `newframe = frame.copy()`\n",
      "  X[new_col] = X[frac] * X[prop]\n",
      "C:\\Users\\pushp\\AppData\\Local\\Temp\\ipykernel_14980\\4110252096.py:37: PerformanceWarning: DataFrame is highly fragmented.  This is usually the result of calling `frame.insert` many times, which has poor performance.  Consider joining all columns at once using pd.concat(axis=1) instead. To get a de-fragmented frame, use `newframe = frame.copy()`\n",
      "  X_test[new_col] = X_test[frac] * X_test[prop]\n",
      "C:\\Users\\pushp\\AppData\\Local\\Temp\\ipykernel_14980\\4110252096.py:36: PerformanceWarning: DataFrame is highly fragmented.  This is usually the result of calling `frame.insert` many times, which has poor performance.  Consider joining all columns at once using pd.concat(axis=1) instead. To get a de-fragmented frame, use `newframe = frame.copy()`\n",
      "  X[new_col] = X[frac] * X[prop]\n",
      "C:\\Users\\pushp\\AppData\\Local\\Temp\\ipykernel_14980\\4110252096.py:37: PerformanceWarning: DataFrame is highly fragmented.  This is usually the result of calling `frame.insert` many times, which has poor performance.  Consider joining all columns at once using pd.concat(axis=1) instead. To get a de-fragmented frame, use `newframe = frame.copy()`\n",
      "  X_test[new_col] = X_test[frac] * X_test[prop]\n",
      "C:\\Users\\pushp\\AppData\\Local\\Temp\\ipykernel_14980\\4110252096.py:36: PerformanceWarning: DataFrame is highly fragmented.  This is usually the result of calling `frame.insert` many times, which has poor performance.  Consider joining all columns at once using pd.concat(axis=1) instead. To get a de-fragmented frame, use `newframe = frame.copy()`\n",
      "  X[new_col] = X[frac] * X[prop]\n",
      "C:\\Users\\pushp\\AppData\\Local\\Temp\\ipykernel_14980\\4110252096.py:37: PerformanceWarning: DataFrame is highly fragmented.  This is usually the result of calling `frame.insert` many times, which has poor performance.  Consider joining all columns at once using pd.concat(axis=1) instead. To get a de-fragmented frame, use `newframe = frame.copy()`\n",
      "  X_test[new_col] = X_test[frac] * X_test[prop]\n",
      "C:\\Users\\pushp\\AppData\\Local\\Temp\\ipykernel_14980\\4110252096.py:36: PerformanceWarning: DataFrame is highly fragmented.  This is usually the result of calling `frame.insert` many times, which has poor performance.  Consider joining all columns at once using pd.concat(axis=1) instead. To get a de-fragmented frame, use `newframe = frame.copy()`\n",
      "  X[new_col] = X[frac] * X[prop]\n",
      "C:\\Users\\pushp\\AppData\\Local\\Temp\\ipykernel_14980\\4110252096.py:37: PerformanceWarning: DataFrame is highly fragmented.  This is usually the result of calling `frame.insert` many times, which has poor performance.  Consider joining all columns at once using pd.concat(axis=1) instead. To get a de-fragmented frame, use `newframe = frame.copy()`\n",
      "  X_test[new_col] = X_test[frac] * X_test[prop]\n",
      "C:\\Users\\pushp\\AppData\\Local\\Temp\\ipykernel_14980\\4110252096.py:36: PerformanceWarning: DataFrame is highly fragmented.  This is usually the result of calling `frame.insert` many times, which has poor performance.  Consider joining all columns at once using pd.concat(axis=1) instead. To get a de-fragmented frame, use `newframe = frame.copy()`\n",
      "  X[new_col] = X[frac] * X[prop]\n",
      "C:\\Users\\pushp\\AppData\\Local\\Temp\\ipykernel_14980\\4110252096.py:37: PerformanceWarning: DataFrame is highly fragmented.  This is usually the result of calling `frame.insert` many times, which has poor performance.  Consider joining all columns at once using pd.concat(axis=1) instead. To get a de-fragmented frame, use `newframe = frame.copy()`\n",
      "  X_test[new_col] = X_test[frac] * X_test[prop]\n",
      "C:\\Users\\pushp\\AppData\\Local\\Temp\\ipykernel_14980\\4110252096.py:36: PerformanceWarning: DataFrame is highly fragmented.  This is usually the result of calling `frame.insert` many times, which has poor performance.  Consider joining all columns at once using pd.concat(axis=1) instead. To get a de-fragmented frame, use `newframe = frame.copy()`\n",
      "  X[new_col] = X[frac] * X[prop]\n",
      "C:\\Users\\pushp\\AppData\\Local\\Temp\\ipykernel_14980\\4110252096.py:37: PerformanceWarning: DataFrame is highly fragmented.  This is usually the result of calling `frame.insert` many times, which has poor performance.  Consider joining all columns at once using pd.concat(axis=1) instead. To get a de-fragmented frame, use `newframe = frame.copy()`\n",
      "  X_test[new_col] = X_test[frac] * X_test[prop]\n",
      "C:\\Users\\pushp\\AppData\\Local\\Temp\\ipykernel_14980\\4110252096.py:36: PerformanceWarning: DataFrame is highly fragmented.  This is usually the result of calling `frame.insert` many times, which has poor performance.  Consider joining all columns at once using pd.concat(axis=1) instead. To get a de-fragmented frame, use `newframe = frame.copy()`\n",
      "  X[new_col] = X[frac] * X[prop]\n",
      "C:\\Users\\pushp\\AppData\\Local\\Temp\\ipykernel_14980\\4110252096.py:37: PerformanceWarning: DataFrame is highly fragmented.  This is usually the result of calling `frame.insert` many times, which has poor performance.  Consider joining all columns at once using pd.concat(axis=1) instead. To get a de-fragmented frame, use `newframe = frame.copy()`\n",
      "  X_test[new_col] = X_test[frac] * X_test[prop]\n",
      "C:\\Users\\pushp\\AppData\\Local\\Temp\\ipykernel_14980\\4110252096.py:36: PerformanceWarning: DataFrame is highly fragmented.  This is usually the result of calling `frame.insert` many times, which has poor performance.  Consider joining all columns at once using pd.concat(axis=1) instead. To get a de-fragmented frame, use `newframe = frame.copy()`\n",
      "  X[new_col] = X[frac] * X[prop]\n",
      "C:\\Users\\pushp\\AppData\\Local\\Temp\\ipykernel_14980\\4110252096.py:37: PerformanceWarning: DataFrame is highly fragmented.  This is usually the result of calling `frame.insert` many times, which has poor performance.  Consider joining all columns at once using pd.concat(axis=1) instead. To get a de-fragmented frame, use `newframe = frame.copy()`\n",
      "  X_test[new_col] = X_test[frac] * X_test[prop]\n",
      "C:\\Users\\pushp\\AppData\\Local\\Temp\\ipykernel_14980\\4110252096.py:36: PerformanceWarning: DataFrame is highly fragmented.  This is usually the result of calling `frame.insert` many times, which has poor performance.  Consider joining all columns at once using pd.concat(axis=1) instead. To get a de-fragmented frame, use `newframe = frame.copy()`\n",
      "  X[new_col] = X[frac] * X[prop]\n",
      "C:\\Users\\pushp\\AppData\\Local\\Temp\\ipykernel_14980\\4110252096.py:37: PerformanceWarning: DataFrame is highly fragmented.  This is usually the result of calling `frame.insert` many times, which has poor performance.  Consider joining all columns at once using pd.concat(axis=1) instead. To get a de-fragmented frame, use `newframe = frame.copy()`\n",
      "  X_test[new_col] = X_test[frac] * X_test[prop]\n",
      "C:\\Users\\pushp\\AppData\\Local\\Temp\\ipykernel_14980\\4110252096.py:36: PerformanceWarning: DataFrame is highly fragmented.  This is usually the result of calling `frame.insert` many times, which has poor performance.  Consider joining all columns at once using pd.concat(axis=1) instead. To get a de-fragmented frame, use `newframe = frame.copy()`\n",
      "  X[new_col] = X[frac] * X[prop]\n",
      "C:\\Users\\pushp\\AppData\\Local\\Temp\\ipykernel_14980\\4110252096.py:37: PerformanceWarning: DataFrame is highly fragmented.  This is usually the result of calling `frame.insert` many times, which has poor performance.  Consider joining all columns at once using pd.concat(axis=1) instead. To get a de-fragmented frame, use `newframe = frame.copy()`\n",
      "  X_test[new_col] = X_test[frac] * X_test[prop]\n",
      "C:\\Users\\pushp\\AppData\\Local\\Temp\\ipykernel_14980\\4110252096.py:36: PerformanceWarning: DataFrame is highly fragmented.  This is usually the result of calling `frame.insert` many times, which has poor performance.  Consider joining all columns at once using pd.concat(axis=1) instead. To get a de-fragmented frame, use `newframe = frame.copy()`\n",
      "  X[new_col] = X[frac] * X[prop]\n",
      "C:\\Users\\pushp\\AppData\\Local\\Temp\\ipykernel_14980\\4110252096.py:37: PerformanceWarning: DataFrame is highly fragmented.  This is usually the result of calling `frame.insert` many times, which has poor performance.  Consider joining all columns at once using pd.concat(axis=1) instead. To get a de-fragmented frame, use `newframe = frame.copy()`\n",
      "  X_test[new_col] = X_test[frac] * X_test[prop]\n",
      "C:\\Users\\pushp\\AppData\\Local\\Temp\\ipykernel_14980\\4110252096.py:36: PerformanceWarning: DataFrame is highly fragmented.  This is usually the result of calling `frame.insert` many times, which has poor performance.  Consider joining all columns at once using pd.concat(axis=1) instead. To get a de-fragmented frame, use `newframe = frame.copy()`\n",
      "  X[new_col] = X[frac] * X[prop]\n",
      "C:\\Users\\pushp\\AppData\\Local\\Temp\\ipykernel_14980\\4110252096.py:37: PerformanceWarning: DataFrame is highly fragmented.  This is usually the result of calling `frame.insert` many times, which has poor performance.  Consider joining all columns at once using pd.concat(axis=1) instead. To get a de-fragmented frame, use `newframe = frame.copy()`\n",
      "  X_test[new_col] = X_test[frac] * X_test[prop]\n",
      "C:\\Users\\pushp\\AppData\\Local\\Temp\\ipykernel_14980\\4110252096.py:36: PerformanceWarning: DataFrame is highly fragmented.  This is usually the result of calling `frame.insert` many times, which has poor performance.  Consider joining all columns at once using pd.concat(axis=1) instead. To get a de-fragmented frame, use `newframe = frame.copy()`\n",
      "  X[new_col] = X[frac] * X[prop]\n",
      "C:\\Users\\pushp\\AppData\\Local\\Temp\\ipykernel_14980\\4110252096.py:37: PerformanceWarning: DataFrame is highly fragmented.  This is usually the result of calling `frame.insert` many times, which has poor performance.  Consider joining all columns at once using pd.concat(axis=1) instead. To get a de-fragmented frame, use `newframe = frame.copy()`\n",
      "  X_test[new_col] = X_test[frac] * X_test[prop]\n",
      "C:\\Users\\pushp\\AppData\\Local\\Temp\\ipykernel_14980\\4110252096.py:36: PerformanceWarning: DataFrame is highly fragmented.  This is usually the result of calling `frame.insert` many times, which has poor performance.  Consider joining all columns at once using pd.concat(axis=1) instead. To get a de-fragmented frame, use `newframe = frame.copy()`\n",
      "  X[new_col] = X[frac] * X[prop]\n",
      "C:\\Users\\pushp\\AppData\\Local\\Temp\\ipykernel_14980\\4110252096.py:37: PerformanceWarning: DataFrame is highly fragmented.  This is usually the result of calling `frame.insert` many times, which has poor performance.  Consider joining all columns at once using pd.concat(axis=1) instead. To get a de-fragmented frame, use `newframe = frame.copy()`\n",
      "  X_test[new_col] = X_test[frac] * X_test[prop]\n",
      "C:\\Users\\pushp\\AppData\\Local\\Temp\\ipykernel_14980\\4110252096.py:36: PerformanceWarning: DataFrame is highly fragmented.  This is usually the result of calling `frame.insert` many times, which has poor performance.  Consider joining all columns at once using pd.concat(axis=1) instead. To get a de-fragmented frame, use `newframe = frame.copy()`\n",
      "  X[new_col] = X[frac] * X[prop]\n",
      "C:\\Users\\pushp\\AppData\\Local\\Temp\\ipykernel_14980\\4110252096.py:37: PerformanceWarning: DataFrame is highly fragmented.  This is usually the result of calling `frame.insert` many times, which has poor performance.  Consider joining all columns at once using pd.concat(axis=1) instead. To get a de-fragmented frame, use `newframe = frame.copy()`\n",
      "  X_test[new_col] = X_test[frac] * X_test[prop]\n",
      "C:\\Users\\pushp\\AppData\\Local\\Temp\\ipykernel_14980\\4110252096.py:36: PerformanceWarning: DataFrame is highly fragmented.  This is usually the result of calling `frame.insert` many times, which has poor performance.  Consider joining all columns at once using pd.concat(axis=1) instead. To get a de-fragmented frame, use `newframe = frame.copy()`\n",
      "  X[new_col] = X[frac] * X[prop]\n",
      "C:\\Users\\pushp\\AppData\\Local\\Temp\\ipykernel_14980\\4110252096.py:37: PerformanceWarning: DataFrame is highly fragmented.  This is usually the result of calling `frame.insert` many times, which has poor performance.  Consider joining all columns at once using pd.concat(axis=1) instead. To get a de-fragmented frame, use `newframe = frame.copy()`\n",
      "  X_test[new_col] = X_test[frac] * X_test[prop]\n",
      "C:\\Users\\pushp\\AppData\\Local\\Temp\\ipykernel_14980\\4110252096.py:36: PerformanceWarning: DataFrame is highly fragmented.  This is usually the result of calling `frame.insert` many times, which has poor performance.  Consider joining all columns at once using pd.concat(axis=1) instead. To get a de-fragmented frame, use `newframe = frame.copy()`\n",
      "  X[new_col] = X[frac] * X[prop]\n",
      "C:\\Users\\pushp\\AppData\\Local\\Temp\\ipykernel_14980\\4110252096.py:37: PerformanceWarning: DataFrame is highly fragmented.  This is usually the result of calling `frame.insert` many times, which has poor performance.  Consider joining all columns at once using pd.concat(axis=1) instead. To get a de-fragmented frame, use `newframe = frame.copy()`\n",
      "  X_test[new_col] = X_test[frac] * X_test[prop]\n",
      "C:\\Users\\pushp\\AppData\\Local\\Temp\\ipykernel_14980\\4110252096.py:36: PerformanceWarning: DataFrame is highly fragmented.  This is usually the result of calling `frame.insert` many times, which has poor performance.  Consider joining all columns at once using pd.concat(axis=1) instead. To get a de-fragmented frame, use `newframe = frame.copy()`\n",
      "  X[new_col] = X[frac] * X[prop]\n",
      "C:\\Users\\pushp\\AppData\\Local\\Temp\\ipykernel_14980\\4110252096.py:37: PerformanceWarning: DataFrame is highly fragmented.  This is usually the result of calling `frame.insert` many times, which has poor performance.  Consider joining all columns at once using pd.concat(axis=1) instead. To get a de-fragmented frame, use `newframe = frame.copy()`\n",
      "  X_test[new_col] = X_test[frac] * X_test[prop]\n",
      "C:\\Users\\pushp\\AppData\\Local\\Temp\\ipykernel_14980\\4110252096.py:36: PerformanceWarning: DataFrame is highly fragmented.  This is usually the result of calling `frame.insert` many times, which has poor performance.  Consider joining all columns at once using pd.concat(axis=1) instead. To get a de-fragmented frame, use `newframe = frame.copy()`\n",
      "  X[new_col] = X[frac] * X[prop]\n",
      "C:\\Users\\pushp\\AppData\\Local\\Temp\\ipykernel_14980\\4110252096.py:37: PerformanceWarning: DataFrame is highly fragmented.  This is usually the result of calling `frame.insert` many times, which has poor performance.  Consider joining all columns at once using pd.concat(axis=1) instead. To get a de-fragmented frame, use `newframe = frame.copy()`\n",
      "  X_test[new_col] = X_test[frac] * X_test[prop]\n",
      "C:\\Users\\pushp\\AppData\\Local\\Temp\\ipykernel_14980\\4110252096.py:36: PerformanceWarning: DataFrame is highly fragmented.  This is usually the result of calling `frame.insert` many times, which has poor performance.  Consider joining all columns at once using pd.concat(axis=1) instead. To get a de-fragmented frame, use `newframe = frame.copy()`\n",
      "  X[new_col] = X[frac] * X[prop]\n",
      "C:\\Users\\pushp\\AppData\\Local\\Temp\\ipykernel_14980\\4110252096.py:37: PerformanceWarning: DataFrame is highly fragmented.  This is usually the result of calling `frame.insert` many times, which has poor performance.  Consider joining all columns at once using pd.concat(axis=1) instead. To get a de-fragmented frame, use `newframe = frame.copy()`\n",
      "  X_test[new_col] = X_test[frac] * X_test[prop]\n",
      "C:\\Users\\pushp\\AppData\\Local\\Temp\\ipykernel_14980\\4110252096.py:36: PerformanceWarning: DataFrame is highly fragmented.  This is usually the result of calling `frame.insert` many times, which has poor performance.  Consider joining all columns at once using pd.concat(axis=1) instead. To get a de-fragmented frame, use `newframe = frame.copy()`\n",
      "  X[new_col] = X[frac] * X[prop]\n",
      "C:\\Users\\pushp\\AppData\\Local\\Temp\\ipykernel_14980\\4110252096.py:37: PerformanceWarning: DataFrame is highly fragmented.  This is usually the result of calling `frame.insert` many times, which has poor performance.  Consider joining all columns at once using pd.concat(axis=1) instead. To get a de-fragmented frame, use `newframe = frame.copy()`\n",
      "  X_test[new_col] = X_test[frac] * X_test[prop]\n",
      "C:\\Users\\pushp\\AppData\\Local\\Temp\\ipykernel_14980\\4110252096.py:36: PerformanceWarning: DataFrame is highly fragmented.  This is usually the result of calling `frame.insert` many times, which has poor performance.  Consider joining all columns at once using pd.concat(axis=1) instead. To get a de-fragmented frame, use `newframe = frame.copy()`\n",
      "  X[new_col] = X[frac] * X[prop]\n",
      "C:\\Users\\pushp\\AppData\\Local\\Temp\\ipykernel_14980\\4110252096.py:37: PerformanceWarning: DataFrame is highly fragmented.  This is usually the result of calling `frame.insert` many times, which has poor performance.  Consider joining all columns at once using pd.concat(axis=1) instead. To get a de-fragmented frame, use `newframe = frame.copy()`\n",
      "  X_test[new_col] = X_test[frac] * X_test[prop]\n",
      "C:\\Users\\pushp\\AppData\\Local\\Temp\\ipykernel_14980\\4110252096.py:36: PerformanceWarning: DataFrame is highly fragmented.  This is usually the result of calling `frame.insert` many times, which has poor performance.  Consider joining all columns at once using pd.concat(axis=1) instead. To get a de-fragmented frame, use `newframe = frame.copy()`\n",
      "  X[new_col] = X[frac] * X[prop]\n",
      "C:\\Users\\pushp\\AppData\\Local\\Temp\\ipykernel_14980\\4110252096.py:37: PerformanceWarning: DataFrame is highly fragmented.  This is usually the result of calling `frame.insert` many times, which has poor performance.  Consider joining all columns at once using pd.concat(axis=1) instead. To get a de-fragmented frame, use `newframe = frame.copy()`\n",
      "  X_test[new_col] = X_test[frac] * X_test[prop]\n",
      "C:\\Users\\pushp\\AppData\\Local\\Temp\\ipykernel_14980\\4110252096.py:36: PerformanceWarning: DataFrame is highly fragmented.  This is usually the result of calling `frame.insert` many times, which has poor performance.  Consider joining all columns at once using pd.concat(axis=1) instead. To get a de-fragmented frame, use `newframe = frame.copy()`\n",
      "  X[new_col] = X[frac] * X[prop]\n",
      "C:\\Users\\pushp\\AppData\\Local\\Temp\\ipykernel_14980\\4110252096.py:37: PerformanceWarning: DataFrame is highly fragmented.  This is usually the result of calling `frame.insert` many times, which has poor performance.  Consider joining all columns at once using pd.concat(axis=1) instead. To get a de-fragmented frame, use `newframe = frame.copy()`\n",
      "  X_test[new_col] = X_test[frac] * X_test[prop]\n",
      "C:\\Users\\pushp\\AppData\\Local\\Temp\\ipykernel_14980\\4110252096.py:36: PerformanceWarning: DataFrame is highly fragmented.  This is usually the result of calling `frame.insert` many times, which has poor performance.  Consider joining all columns at once using pd.concat(axis=1) instead. To get a de-fragmented frame, use `newframe = frame.copy()`\n",
      "  X[new_col] = X[frac] * X[prop]\n",
      "C:\\Users\\pushp\\AppData\\Local\\Temp\\ipykernel_14980\\4110252096.py:37: PerformanceWarning: DataFrame is highly fragmented.  This is usually the result of calling `frame.insert` many times, which has poor performance.  Consider joining all columns at once using pd.concat(axis=1) instead. To get a de-fragmented frame, use `newframe = frame.copy()`\n",
      "  X_test[new_col] = X_test[frac] * X_test[prop]\n",
      "C:\\Users\\pushp\\AppData\\Local\\Temp\\ipykernel_14980\\4110252096.py:36: PerformanceWarning: DataFrame is highly fragmented.  This is usually the result of calling `frame.insert` many times, which has poor performance.  Consider joining all columns at once using pd.concat(axis=1) instead. To get a de-fragmented frame, use `newframe = frame.copy()`\n",
      "  X[new_col] = X[frac] * X[prop]\n",
      "C:\\Users\\pushp\\AppData\\Local\\Temp\\ipykernel_14980\\4110252096.py:37: PerformanceWarning: DataFrame is highly fragmented.  This is usually the result of calling `frame.insert` many times, which has poor performance.  Consider joining all columns at once using pd.concat(axis=1) instead. To get a de-fragmented frame, use `newframe = frame.copy()`\n",
      "  X_test[new_col] = X_test[frac] * X_test[prop]\n",
      "C:\\Users\\pushp\\AppData\\Local\\Temp\\ipykernel_14980\\4110252096.py:36: PerformanceWarning: DataFrame is highly fragmented.  This is usually the result of calling `frame.insert` many times, which has poor performance.  Consider joining all columns at once using pd.concat(axis=1) instead. To get a de-fragmented frame, use `newframe = frame.copy()`\n",
      "  X[new_col] = X[frac] * X[prop]\n",
      "C:\\Users\\pushp\\AppData\\Local\\Temp\\ipykernel_14980\\4110252096.py:37: PerformanceWarning: DataFrame is highly fragmented.  This is usually the result of calling `frame.insert` many times, which has poor performance.  Consider joining all columns at once using pd.concat(axis=1) instead. To get a de-fragmented frame, use `newframe = frame.copy()`\n",
      "  X_test[new_col] = X_test[frac] * X_test[prop]\n",
      "C:\\Users\\pushp\\AppData\\Local\\Temp\\ipykernel_14980\\4110252096.py:36: PerformanceWarning: DataFrame is highly fragmented.  This is usually the result of calling `frame.insert` many times, which has poor performance.  Consider joining all columns at once using pd.concat(axis=1) instead. To get a de-fragmented frame, use `newframe = frame.copy()`\n",
      "  X[new_col] = X[frac] * X[prop]\n",
      "C:\\Users\\pushp\\AppData\\Local\\Temp\\ipykernel_14980\\4110252096.py:37: PerformanceWarning: DataFrame is highly fragmented.  This is usually the result of calling `frame.insert` many times, which has poor performance.  Consider joining all columns at once using pd.concat(axis=1) instead. To get a de-fragmented frame, use `newframe = frame.copy()`\n",
      "  X_test[new_col] = X_test[frac] * X_test[prop]\n",
      "C:\\Users\\pushp\\AppData\\Local\\Temp\\ipykernel_14980\\4110252096.py:36: PerformanceWarning: DataFrame is highly fragmented.  This is usually the result of calling `frame.insert` many times, which has poor performance.  Consider joining all columns at once using pd.concat(axis=1) instead. To get a de-fragmented frame, use `newframe = frame.copy()`\n",
      "  X[new_col] = X[frac] * X[prop]\n",
      "C:\\Users\\pushp\\AppData\\Local\\Temp\\ipykernel_14980\\4110252096.py:37: PerformanceWarning: DataFrame is highly fragmented.  This is usually the result of calling `frame.insert` many times, which has poor performance.  Consider joining all columns at once using pd.concat(axis=1) instead. To get a de-fragmented frame, use `newframe = frame.copy()`\n",
      "  X_test[new_col] = X_test[frac] * X_test[prop]\n",
      "C:\\Users\\pushp\\AppData\\Local\\Temp\\ipykernel_14980\\4110252096.py:36: PerformanceWarning: DataFrame is highly fragmented.  This is usually the result of calling `frame.insert` many times, which has poor performance.  Consider joining all columns at once using pd.concat(axis=1) instead. To get a de-fragmented frame, use `newframe = frame.copy()`\n",
      "  X[new_col] = X[frac] * X[prop]\n",
      "C:\\Users\\pushp\\AppData\\Local\\Temp\\ipykernel_14980\\4110252096.py:37: PerformanceWarning: DataFrame is highly fragmented.  This is usually the result of calling `frame.insert` many times, which has poor performance.  Consider joining all columns at once using pd.concat(axis=1) instead. To get a de-fragmented frame, use `newframe = frame.copy()`\n",
      "  X_test[new_col] = X_test[frac] * X_test[prop]\n",
      "C:\\Users\\pushp\\AppData\\Local\\Temp\\ipykernel_14980\\4110252096.py:36: PerformanceWarning: DataFrame is highly fragmented.  This is usually the result of calling `frame.insert` many times, which has poor performance.  Consider joining all columns at once using pd.concat(axis=1) instead. To get a de-fragmented frame, use `newframe = frame.copy()`\n",
      "  X[new_col] = X[frac] * X[prop]\n",
      "C:\\Users\\pushp\\AppData\\Local\\Temp\\ipykernel_14980\\4110252096.py:37: PerformanceWarning: DataFrame is highly fragmented.  This is usually the result of calling `frame.insert` many times, which has poor performance.  Consider joining all columns at once using pd.concat(axis=1) instead. To get a de-fragmented frame, use `newframe = frame.copy()`\n",
      "  X_test[new_col] = X_test[frac] * X_test[prop]\n",
      "C:\\Users\\pushp\\AppData\\Local\\Temp\\ipykernel_14980\\4110252096.py:36: PerformanceWarning: DataFrame is highly fragmented.  This is usually the result of calling `frame.insert` many times, which has poor performance.  Consider joining all columns at once using pd.concat(axis=1) instead. To get a de-fragmented frame, use `newframe = frame.copy()`\n",
      "  X[new_col] = X[frac] * X[prop]\n",
      "C:\\Users\\pushp\\AppData\\Local\\Temp\\ipykernel_14980\\4110252096.py:37: PerformanceWarning: DataFrame is highly fragmented.  This is usually the result of calling `frame.insert` many times, which has poor performance.  Consider joining all columns at once using pd.concat(axis=1) instead. To get a de-fragmented frame, use `newframe = frame.copy()`\n",
      "  X_test[new_col] = X_test[frac] * X_test[prop]\n",
      "C:\\Users\\pushp\\AppData\\Local\\Temp\\ipykernel_14980\\4110252096.py:36: PerformanceWarning: DataFrame is highly fragmented.  This is usually the result of calling `frame.insert` many times, which has poor performance.  Consider joining all columns at once using pd.concat(axis=1) instead. To get a de-fragmented frame, use `newframe = frame.copy()`\n",
      "  X[new_col] = X[frac] * X[prop]\n",
      "C:\\Users\\pushp\\AppData\\Local\\Temp\\ipykernel_14980\\4110252096.py:37: PerformanceWarning: DataFrame is highly fragmented.  This is usually the result of calling `frame.insert` many times, which has poor performance.  Consider joining all columns at once using pd.concat(axis=1) instead. To get a de-fragmented frame, use `newframe = frame.copy()`\n",
      "  X_test[new_col] = X_test[frac] * X_test[prop]\n",
      "C:\\Users\\pushp\\AppData\\Local\\Temp\\ipykernel_14980\\4110252096.py:36: PerformanceWarning: DataFrame is highly fragmented.  This is usually the result of calling `frame.insert` many times, which has poor performance.  Consider joining all columns at once using pd.concat(axis=1) instead. To get a de-fragmented frame, use `newframe = frame.copy()`\n",
      "  X[new_col] = X[frac] * X[prop]\n",
      "C:\\Users\\pushp\\AppData\\Local\\Temp\\ipykernel_14980\\4110252096.py:37: PerformanceWarning: DataFrame is highly fragmented.  This is usually the result of calling `frame.insert` many times, which has poor performance.  Consider joining all columns at once using pd.concat(axis=1) instead. To get a de-fragmented frame, use `newframe = frame.copy()`\n",
      "  X_test[new_col] = X_test[frac] * X_test[prop]\n",
      "C:\\Users\\pushp\\AppData\\Local\\Temp\\ipykernel_14980\\4110252096.py:36: PerformanceWarning: DataFrame is highly fragmented.  This is usually the result of calling `frame.insert` many times, which has poor performance.  Consider joining all columns at once using pd.concat(axis=1) instead. To get a de-fragmented frame, use `newframe = frame.copy()`\n",
      "  X[new_col] = X[frac] * X[prop]\n",
      "C:\\Users\\pushp\\AppData\\Local\\Temp\\ipykernel_14980\\4110252096.py:37: PerformanceWarning: DataFrame is highly fragmented.  This is usually the result of calling `frame.insert` many times, which has poor performance.  Consider joining all columns at once using pd.concat(axis=1) instead. To get a de-fragmented frame, use `newframe = frame.copy()`\n",
      "  X_test[new_col] = X_test[frac] * X_test[prop]\n",
      "C:\\Users\\pushp\\AppData\\Local\\Temp\\ipykernel_14980\\4110252096.py:36: PerformanceWarning: DataFrame is highly fragmented.  This is usually the result of calling `frame.insert` many times, which has poor performance.  Consider joining all columns at once using pd.concat(axis=1) instead. To get a de-fragmented frame, use `newframe = frame.copy()`\n",
      "  X[new_col] = X[frac] * X[prop]\n",
      "C:\\Users\\pushp\\AppData\\Local\\Temp\\ipykernel_14980\\4110252096.py:37: PerformanceWarning: DataFrame is highly fragmented.  This is usually the result of calling `frame.insert` many times, which has poor performance.  Consider joining all columns at once using pd.concat(axis=1) instead. To get a de-fragmented frame, use `newframe = frame.copy()`\n",
      "  X_test[new_col] = X_test[frac] * X_test[prop]\n",
      "C:\\Users\\pushp\\AppData\\Local\\Temp\\ipykernel_14980\\4110252096.py:36: PerformanceWarning: DataFrame is highly fragmented.  This is usually the result of calling `frame.insert` many times, which has poor performance.  Consider joining all columns at once using pd.concat(axis=1) instead. To get a de-fragmented frame, use `newframe = frame.copy()`\n",
      "  X[new_col] = X[frac] * X[prop]\n",
      "C:\\Users\\pushp\\AppData\\Local\\Temp\\ipykernel_14980\\4110252096.py:37: PerformanceWarning: DataFrame is highly fragmented.  This is usually the result of calling `frame.insert` many times, which has poor performance.  Consider joining all columns at once using pd.concat(axis=1) instead. To get a de-fragmented frame, use `newframe = frame.copy()`\n",
      "  X_test[new_col] = X_test[frac] * X_test[prop]\n",
      "C:\\Users\\pushp\\AppData\\Local\\Temp\\ipykernel_14980\\4110252096.py:36: PerformanceWarning: DataFrame is highly fragmented.  This is usually the result of calling `frame.insert` many times, which has poor performance.  Consider joining all columns at once using pd.concat(axis=1) instead. To get a de-fragmented frame, use `newframe = frame.copy()`\n",
      "  X[new_col] = X[frac] * X[prop]\n",
      "C:\\Users\\pushp\\AppData\\Local\\Temp\\ipykernel_14980\\4110252096.py:37: PerformanceWarning: DataFrame is highly fragmented.  This is usually the result of calling `frame.insert` many times, which has poor performance.  Consider joining all columns at once using pd.concat(axis=1) instead. To get a de-fragmented frame, use `newframe = frame.copy()`\n",
      "  X_test[new_col] = X_test[frac] * X_test[prop]\n",
      "C:\\Users\\pushp\\AppData\\Local\\Temp\\ipykernel_14980\\4110252096.py:36: PerformanceWarning: DataFrame is highly fragmented.  This is usually the result of calling `frame.insert` many times, which has poor performance.  Consider joining all columns at once using pd.concat(axis=1) instead. To get a de-fragmented frame, use `newframe = frame.copy()`\n",
      "  X[new_col] = X[frac] * X[prop]\n",
      "C:\\Users\\pushp\\AppData\\Local\\Temp\\ipykernel_14980\\4110252096.py:37: PerformanceWarning: DataFrame is highly fragmented.  This is usually the result of calling `frame.insert` many times, which has poor performance.  Consider joining all columns at once using pd.concat(axis=1) instead. To get a de-fragmented frame, use `newframe = frame.copy()`\n",
      "  X_test[new_col] = X_test[frac] * X_test[prop]\n",
      "C:\\Users\\pushp\\AppData\\Local\\Temp\\ipykernel_14980\\4110252096.py:36: PerformanceWarning: DataFrame is highly fragmented.  This is usually the result of calling `frame.insert` many times, which has poor performance.  Consider joining all columns at once using pd.concat(axis=1) instead. To get a de-fragmented frame, use `newframe = frame.copy()`\n",
      "  X[new_col] = X[frac] * X[prop]\n",
      "C:\\Users\\pushp\\AppData\\Local\\Temp\\ipykernel_14980\\4110252096.py:37: PerformanceWarning: DataFrame is highly fragmented.  This is usually the result of calling `frame.insert` many times, which has poor performance.  Consider joining all columns at once using pd.concat(axis=1) instead. To get a de-fragmented frame, use `newframe = frame.copy()`\n",
      "  X_test[new_col] = X_test[frac] * X_test[prop]\n",
      "C:\\Users\\pushp\\AppData\\Local\\Temp\\ipykernel_14980\\4110252096.py:36: PerformanceWarning: DataFrame is highly fragmented.  This is usually the result of calling `frame.insert` many times, which has poor performance.  Consider joining all columns at once using pd.concat(axis=1) instead. To get a de-fragmented frame, use `newframe = frame.copy()`\n",
      "  X[new_col] = X[frac] * X[prop]\n",
      "C:\\Users\\pushp\\AppData\\Local\\Temp\\ipykernel_14980\\4110252096.py:37: PerformanceWarning: DataFrame is highly fragmented.  This is usually the result of calling `frame.insert` many times, which has poor performance.  Consider joining all columns at once using pd.concat(axis=1) instead. To get a de-fragmented frame, use `newframe = frame.copy()`\n",
      "  X_test[new_col] = X_test[frac] * X_test[prop]\n",
      "C:\\Users\\pushp\\AppData\\Local\\Temp\\ipykernel_14980\\4110252096.py:36: PerformanceWarning: DataFrame is highly fragmented.  This is usually the result of calling `frame.insert` many times, which has poor performance.  Consider joining all columns at once using pd.concat(axis=1) instead. To get a de-fragmented frame, use `newframe = frame.copy()`\n",
      "  X[new_col] = X[frac] * X[prop]\n",
      "C:\\Users\\pushp\\AppData\\Local\\Temp\\ipykernel_14980\\4110252096.py:37: PerformanceWarning: DataFrame is highly fragmented.  This is usually the result of calling `frame.insert` many times, which has poor performance.  Consider joining all columns at once using pd.concat(axis=1) instead. To get a de-fragmented frame, use `newframe = frame.copy()`\n",
      "  X_test[new_col] = X_test[frac] * X_test[prop]\n",
      "C:\\Users\\pushp\\AppData\\Local\\Temp\\ipykernel_14980\\4110252096.py:36: PerformanceWarning: DataFrame is highly fragmented.  This is usually the result of calling `frame.insert` many times, which has poor performance.  Consider joining all columns at once using pd.concat(axis=1) instead. To get a de-fragmented frame, use `newframe = frame.copy()`\n",
      "  X[new_col] = X[frac] * X[prop]\n",
      "C:\\Users\\pushp\\AppData\\Local\\Temp\\ipykernel_14980\\4110252096.py:37: PerformanceWarning: DataFrame is highly fragmented.  This is usually the result of calling `frame.insert` many times, which has poor performance.  Consider joining all columns at once using pd.concat(axis=1) instead. To get a de-fragmented frame, use `newframe = frame.copy()`\n",
      "  X_test[new_col] = X_test[frac] * X_test[prop]\n",
      "C:\\Users\\pushp\\AppData\\Local\\Temp\\ipykernel_14980\\4110252096.py:36: PerformanceWarning: DataFrame is highly fragmented.  This is usually the result of calling `frame.insert` many times, which has poor performance.  Consider joining all columns at once using pd.concat(axis=1) instead. To get a de-fragmented frame, use `newframe = frame.copy()`\n",
      "  X[new_col] = X[frac] * X[prop]\n",
      "C:\\Users\\pushp\\AppData\\Local\\Temp\\ipykernel_14980\\4110252096.py:37: PerformanceWarning: DataFrame is highly fragmented.  This is usually the result of calling `frame.insert` many times, which has poor performance.  Consider joining all columns at once using pd.concat(axis=1) instead. To get a de-fragmented frame, use `newframe = frame.copy()`\n",
      "  X_test[new_col] = X_test[frac] * X_test[prop]\n",
      "C:\\Users\\pushp\\AppData\\Local\\Temp\\ipykernel_14980\\4110252096.py:36: PerformanceWarning: DataFrame is highly fragmented.  This is usually the result of calling `frame.insert` many times, which has poor performance.  Consider joining all columns at once using pd.concat(axis=1) instead. To get a de-fragmented frame, use `newframe = frame.copy()`\n",
      "  X[new_col] = X[frac] * X[prop]\n",
      "C:\\Users\\pushp\\AppData\\Local\\Temp\\ipykernel_14980\\4110252096.py:37: PerformanceWarning: DataFrame is highly fragmented.  This is usually the result of calling `frame.insert` many times, which has poor performance.  Consider joining all columns at once using pd.concat(axis=1) instead. To get a de-fragmented frame, use `newframe = frame.copy()`\n",
      "  X_test[new_col] = X_test[frac] * X_test[prop]\n",
      "C:\\Users\\pushp\\AppData\\Local\\Temp\\ipykernel_14980\\4110252096.py:36: PerformanceWarning: DataFrame is highly fragmented.  This is usually the result of calling `frame.insert` many times, which has poor performance.  Consider joining all columns at once using pd.concat(axis=1) instead. To get a de-fragmented frame, use `newframe = frame.copy()`\n",
      "  X[new_col] = X[frac] * X[prop]\n",
      "C:\\Users\\pushp\\AppData\\Local\\Temp\\ipykernel_14980\\4110252096.py:37: PerformanceWarning: DataFrame is highly fragmented.  This is usually the result of calling `frame.insert` many times, which has poor performance.  Consider joining all columns at once using pd.concat(axis=1) instead. To get a de-fragmented frame, use `newframe = frame.copy()`\n",
      "  X_test[new_col] = X_test[frac] * X_test[prop]\n",
      "C:\\Users\\pushp\\AppData\\Local\\Temp\\ipykernel_14980\\4110252096.py:36: PerformanceWarning: DataFrame is highly fragmented.  This is usually the result of calling `frame.insert` many times, which has poor performance.  Consider joining all columns at once using pd.concat(axis=1) instead. To get a de-fragmented frame, use `newframe = frame.copy()`\n",
      "  X[new_col] = X[frac] * X[prop]\n",
      "C:\\Users\\pushp\\AppData\\Local\\Temp\\ipykernel_14980\\4110252096.py:37: PerformanceWarning: DataFrame is highly fragmented.  This is usually the result of calling `frame.insert` many times, which has poor performance.  Consider joining all columns at once using pd.concat(axis=1) instead. To get a de-fragmented frame, use `newframe = frame.copy()`\n",
      "  X_test[new_col] = X_test[frac] * X_test[prop]\n",
      "C:\\Users\\pushp\\AppData\\Local\\Temp\\ipykernel_14980\\4110252096.py:36: PerformanceWarning: DataFrame is highly fragmented.  This is usually the result of calling `frame.insert` many times, which has poor performance.  Consider joining all columns at once using pd.concat(axis=1) instead. To get a de-fragmented frame, use `newframe = frame.copy()`\n",
      "  X[new_col] = X[frac] * X[prop]\n",
      "C:\\Users\\pushp\\AppData\\Local\\Temp\\ipykernel_14980\\4110252096.py:37: PerformanceWarning: DataFrame is highly fragmented.  This is usually the result of calling `frame.insert` many times, which has poor performance.  Consider joining all columns at once using pd.concat(axis=1) instead. To get a de-fragmented frame, use `newframe = frame.copy()`\n",
      "  X_test[new_col] = X_test[frac] * X_test[prop]\n",
      "C:\\Users\\pushp\\AppData\\Local\\Temp\\ipykernel_14980\\4110252096.py:36: PerformanceWarning: DataFrame is highly fragmented.  This is usually the result of calling `frame.insert` many times, which has poor performance.  Consider joining all columns at once using pd.concat(axis=1) instead. To get a de-fragmented frame, use `newframe = frame.copy()`\n",
      "  X[new_col] = X[frac] * X[prop]\n",
      "C:\\Users\\pushp\\AppData\\Local\\Temp\\ipykernel_14980\\4110252096.py:37: PerformanceWarning: DataFrame is highly fragmented.  This is usually the result of calling `frame.insert` many times, which has poor performance.  Consider joining all columns at once using pd.concat(axis=1) instead. To get a de-fragmented frame, use `newframe = frame.copy()`\n",
      "  X_test[new_col] = X_test[frac] * X_test[prop]\n",
      "C:\\Users\\pushp\\AppData\\Local\\Temp\\ipykernel_14980\\4110252096.py:36: PerformanceWarning: DataFrame is highly fragmented.  This is usually the result of calling `frame.insert` many times, which has poor performance.  Consider joining all columns at once using pd.concat(axis=1) instead. To get a de-fragmented frame, use `newframe = frame.copy()`\n",
      "  X[new_col] = X[frac] * X[prop]\n",
      "C:\\Users\\pushp\\AppData\\Local\\Temp\\ipykernel_14980\\4110252096.py:37: PerformanceWarning: DataFrame is highly fragmented.  This is usually the result of calling `frame.insert` many times, which has poor performance.  Consider joining all columns at once using pd.concat(axis=1) instead. To get a de-fragmented frame, use `newframe = frame.copy()`\n",
      "  X_test[new_col] = X_test[frac] * X_test[prop]\n",
      "C:\\Users\\pushp\\AppData\\Local\\Temp\\ipykernel_14980\\4110252096.py:36: PerformanceWarning: DataFrame is highly fragmented.  This is usually the result of calling `frame.insert` many times, which has poor performance.  Consider joining all columns at once using pd.concat(axis=1) instead. To get a de-fragmented frame, use `newframe = frame.copy()`\n",
      "  X[new_col] = X[frac] * X[prop]\n",
      "C:\\Users\\pushp\\AppData\\Local\\Temp\\ipykernel_14980\\4110252096.py:37: PerformanceWarning: DataFrame is highly fragmented.  This is usually the result of calling `frame.insert` many times, which has poor performance.  Consider joining all columns at once using pd.concat(axis=1) instead. To get a de-fragmented frame, use `newframe = frame.copy()`\n",
      "  X_test[new_col] = X_test[frac] * X_test[prop]\n",
      "C:\\Users\\pushp\\AppData\\Local\\Temp\\ipykernel_14980\\4110252096.py:36: PerformanceWarning: DataFrame is highly fragmented.  This is usually the result of calling `frame.insert` many times, which has poor performance.  Consider joining all columns at once using pd.concat(axis=1) instead. To get a de-fragmented frame, use `newframe = frame.copy()`\n",
      "  X[new_col] = X[frac] * X[prop]\n",
      "C:\\Users\\pushp\\AppData\\Local\\Temp\\ipykernel_14980\\4110252096.py:37: PerformanceWarning: DataFrame is highly fragmented.  This is usually the result of calling `frame.insert` many times, which has poor performance.  Consider joining all columns at once using pd.concat(axis=1) instead. To get a de-fragmented frame, use `newframe = frame.copy()`\n",
      "  X_test[new_col] = X_test[frac] * X_test[prop]\n",
      "C:\\Users\\pushp\\AppData\\Local\\Temp\\ipykernel_14980\\4110252096.py:36: PerformanceWarning: DataFrame is highly fragmented.  This is usually the result of calling `frame.insert` many times, which has poor performance.  Consider joining all columns at once using pd.concat(axis=1) instead. To get a de-fragmented frame, use `newframe = frame.copy()`\n",
      "  X[new_col] = X[frac] * X[prop]\n",
      "C:\\Users\\pushp\\AppData\\Local\\Temp\\ipykernel_14980\\4110252096.py:37: PerformanceWarning: DataFrame is highly fragmented.  This is usually the result of calling `frame.insert` many times, which has poor performance.  Consider joining all columns at once using pd.concat(axis=1) instead. To get a de-fragmented frame, use `newframe = frame.copy()`\n",
      "  X_test[new_col] = X_test[frac] * X_test[prop]\n",
      "C:\\Users\\pushp\\AppData\\Local\\Temp\\ipykernel_14980\\4110252096.py:36: PerformanceWarning: DataFrame is highly fragmented.  This is usually the result of calling `frame.insert` many times, which has poor performance.  Consider joining all columns at once using pd.concat(axis=1) instead. To get a de-fragmented frame, use `newframe = frame.copy()`\n",
      "  X[new_col] = X[frac] * X[prop]\n",
      "C:\\Users\\pushp\\AppData\\Local\\Temp\\ipykernel_14980\\4110252096.py:37: PerformanceWarning: DataFrame is highly fragmented.  This is usually the result of calling `frame.insert` many times, which has poor performance.  Consider joining all columns at once using pd.concat(axis=1) instead. To get a de-fragmented frame, use `newframe = frame.copy()`\n",
      "  X_test[new_col] = X_test[frac] * X_test[prop]\n",
      "C:\\Users\\pushp\\AppData\\Local\\Temp\\ipykernel_14980\\4110252096.py:36: PerformanceWarning: DataFrame is highly fragmented.  This is usually the result of calling `frame.insert` many times, which has poor performance.  Consider joining all columns at once using pd.concat(axis=1) instead. To get a de-fragmented frame, use `newframe = frame.copy()`\n",
      "  X[new_col] = X[frac] * X[prop]\n",
      "C:\\Users\\pushp\\AppData\\Local\\Temp\\ipykernel_14980\\4110252096.py:37: PerformanceWarning: DataFrame is highly fragmented.  This is usually the result of calling `frame.insert` many times, which has poor performance.  Consider joining all columns at once using pd.concat(axis=1) instead. To get a de-fragmented frame, use `newframe = frame.copy()`\n",
      "  X_test[new_col] = X_test[frac] * X_test[prop]\n",
      "C:\\Users\\pushp\\AppData\\Local\\Temp\\ipykernel_14980\\4110252096.py:36: PerformanceWarning: DataFrame is highly fragmented.  This is usually the result of calling `frame.insert` many times, which has poor performance.  Consider joining all columns at once using pd.concat(axis=1) instead. To get a de-fragmented frame, use `newframe = frame.copy()`\n",
      "  X[new_col] = X[frac] * X[prop]\n",
      "C:\\Users\\pushp\\AppData\\Local\\Temp\\ipykernel_14980\\4110252096.py:37: PerformanceWarning: DataFrame is highly fragmented.  This is usually the result of calling `frame.insert` many times, which has poor performance.  Consider joining all columns at once using pd.concat(axis=1) instead. To get a de-fragmented frame, use `newframe = frame.copy()`\n",
      "  X_test[new_col] = X_test[frac] * X_test[prop]\n"
     ]
    },
    {
     "name": "stdout",
     "output_type": "stream",
     "text": [
      "\n",
      "Training for target: BlendProperty1\n"
     ]
    },
    {
     "name": "stderr",
     "output_type": "stream",
     "text": [
      "C:\\Users\\pushp\\anaconda3\\Lib\\site-packages\\sklearn\\metrics\\_regression.py:492: FutureWarning: 'squared' is deprecated in version 1.4 and will be removed in 1.6. To calculate the root mean squared error, use the function'root_mean_squared_error'.\n",
      "  warnings.warn(\n"
     ]
    },
    {
     "name": "stdout",
     "output_type": "stream",
     "text": [
      "  Fold RMSE: 0.1787, R2: 0.9653\n"
     ]
    },
    {
     "name": "stderr",
     "output_type": "stream",
     "text": [
      "C:\\Users\\pushp\\anaconda3\\Lib\\site-packages\\sklearn\\metrics\\_regression.py:492: FutureWarning: 'squared' is deprecated in version 1.4 and will be removed in 1.6. To calculate the root mean squared error, use the function'root_mean_squared_error'.\n",
      "  warnings.warn(\n"
     ]
    },
    {
     "name": "stdout",
     "output_type": "stream",
     "text": [
      "  Fold RMSE: 0.1539, R2: 0.9746\n"
     ]
    },
    {
     "name": "stderr",
     "output_type": "stream",
     "text": [
      "C:\\Users\\pushp\\anaconda3\\Lib\\site-packages\\sklearn\\metrics\\_regression.py:492: FutureWarning: 'squared' is deprecated in version 1.4 and will be removed in 1.6. To calculate the root mean squared error, use the function'root_mean_squared_error'.\n",
      "  warnings.warn(\n"
     ]
    },
    {
     "name": "stdout",
     "output_type": "stream",
     "text": [
      "  Fold RMSE: 0.1837, R2: 0.9632\n"
     ]
    },
    {
     "name": "stderr",
     "output_type": "stream",
     "text": [
      "C:\\Users\\pushp\\anaconda3\\Lib\\site-packages\\sklearn\\metrics\\_regression.py:492: FutureWarning: 'squared' is deprecated in version 1.4 and will be removed in 1.6. To calculate the root mean squared error, use the function'root_mean_squared_error'.\n",
      "  warnings.warn(\n"
     ]
    },
    {
     "name": "stdout",
     "output_type": "stream",
     "text": [
      "  Fold RMSE: 0.1763, R2: 0.9716\n"
     ]
    },
    {
     "name": "stderr",
     "output_type": "stream",
     "text": [
      "C:\\Users\\pushp\\anaconda3\\Lib\\site-packages\\sklearn\\metrics\\_regression.py:492: FutureWarning: 'squared' is deprecated in version 1.4 and will be removed in 1.6. To calculate the root mean squared error, use the function'root_mean_squared_error'.\n",
      "  warnings.warn(\n",
      "C:\\Users\\pushp\\anaconda3\\Lib\\site-packages\\sklearn\\metrics\\_regression.py:492: FutureWarning: 'squared' is deprecated in version 1.4 and will be removed in 1.6. To calculate the root mean squared error, use the function'root_mean_squared_error'.\n",
      "  warnings.warn(\n"
     ]
    },
    {
     "name": "stdout",
     "output_type": "stream",
     "text": [
      "  Fold RMSE: 0.1698, R2: 0.9728\n",
      "Overall BlendProperty1 RMSE: 0.1728, R2: 0.9698\n",
      "\n",
      "Training for target: BlendProperty2\n"
     ]
    },
    {
     "name": "stderr",
     "output_type": "stream",
     "text": [
      "C:\\Users\\pushp\\anaconda3\\Lib\\site-packages\\sklearn\\metrics\\_regression.py:492: FutureWarning: 'squared' is deprecated in version 1.4 and will be removed in 1.6. To calculate the root mean squared error, use the function'root_mean_squared_error'.\n",
      "  warnings.warn(\n"
     ]
    },
    {
     "name": "stdout",
     "output_type": "stream",
     "text": [
      "  Fold RMSE: 0.1851, R2: 0.9627\n"
     ]
    },
    {
     "name": "stderr",
     "output_type": "stream",
     "text": [
      "C:\\Users\\pushp\\anaconda3\\Lib\\site-packages\\sklearn\\metrics\\_regression.py:492: FutureWarning: 'squared' is deprecated in version 1.4 and will be removed in 1.6. To calculate the root mean squared error, use the function'root_mean_squared_error'.\n",
      "  warnings.warn(\n"
     ]
    },
    {
     "name": "stdout",
     "output_type": "stream",
     "text": [
      "  Fold RMSE: 0.1669, R2: 0.9727\n"
     ]
    },
    {
     "name": "stderr",
     "output_type": "stream",
     "text": [
      "C:\\Users\\pushp\\anaconda3\\Lib\\site-packages\\sklearn\\metrics\\_regression.py:492: FutureWarning: 'squared' is deprecated in version 1.4 and will be removed in 1.6. To calculate the root mean squared error, use the function'root_mean_squared_error'.\n",
      "  warnings.warn(\n"
     ]
    },
    {
     "name": "stdout",
     "output_type": "stream",
     "text": [
      "  Fold RMSE: 0.1645, R2: 0.9697\n"
     ]
    },
    {
     "name": "stderr",
     "output_type": "stream",
     "text": [
      "C:\\Users\\pushp\\anaconda3\\Lib\\site-packages\\sklearn\\metrics\\_regression.py:492: FutureWarning: 'squared' is deprecated in version 1.4 and will be removed in 1.6. To calculate the root mean squared error, use the function'root_mean_squared_error'.\n",
      "  warnings.warn(\n"
     ]
    },
    {
     "name": "stdout",
     "output_type": "stream",
     "text": [
      "  Fold RMSE: 0.1770, R2: 0.9718\n"
     ]
    },
    {
     "name": "stderr",
     "output_type": "stream",
     "text": [
      "C:\\Users\\pushp\\anaconda3\\Lib\\site-packages\\sklearn\\metrics\\_regression.py:492: FutureWarning: 'squared' is deprecated in version 1.4 and will be removed in 1.6. To calculate the root mean squared error, use the function'root_mean_squared_error'.\n",
      "  warnings.warn(\n",
      "C:\\Users\\pushp\\anaconda3\\Lib\\site-packages\\sklearn\\metrics\\_regression.py:492: FutureWarning: 'squared' is deprecated in version 1.4 and will be removed in 1.6. To calculate the root mean squared error, use the function'root_mean_squared_error'.\n",
      "  warnings.warn(\n"
     ]
    },
    {
     "name": "stdout",
     "output_type": "stream",
     "text": [
      "  Fold RMSE: 0.1761, R2: 0.9714\n",
      "Overall BlendProperty2 RMSE: 0.1741, R2: 0.9700\n",
      "\n",
      "Training for target: BlendProperty3\n"
     ]
    },
    {
     "name": "stderr",
     "output_type": "stream",
     "text": [
      "C:\\Users\\pushp\\anaconda3\\Lib\\site-packages\\sklearn\\metrics\\_regression.py:492: FutureWarning: 'squared' is deprecated in version 1.4 and will be removed in 1.6. To calculate the root mean squared error, use the function'root_mean_squared_error'.\n",
      "  warnings.warn(\n"
     ]
    },
    {
     "name": "stdout",
     "output_type": "stream",
     "text": [
      "  Fold RMSE: 0.1837, R2: 0.9648\n"
     ]
    },
    {
     "name": "stderr",
     "output_type": "stream",
     "text": [
      "C:\\Users\\pushp\\anaconda3\\Lib\\site-packages\\sklearn\\metrics\\_regression.py:492: FutureWarning: 'squared' is deprecated in version 1.4 and will be removed in 1.6. To calculate the root mean squared error, use the function'root_mean_squared_error'.\n",
      "  warnings.warn(\n"
     ]
    },
    {
     "name": "stdout",
     "output_type": "stream",
     "text": [
      "  Fold RMSE: 0.1803, R2: 0.9690\n"
     ]
    },
    {
     "name": "stderr",
     "output_type": "stream",
     "text": [
      "C:\\Users\\pushp\\anaconda3\\Lib\\site-packages\\sklearn\\metrics\\_regression.py:492: FutureWarning: 'squared' is deprecated in version 1.4 and will be removed in 1.6. To calculate the root mean squared error, use the function'root_mean_squared_error'.\n",
      "  warnings.warn(\n"
     ]
    },
    {
     "name": "stdout",
     "output_type": "stream",
     "text": [
      "  Fold RMSE: 0.1911, R2: 0.9628\n"
     ]
    },
    {
     "name": "stderr",
     "output_type": "stream",
     "text": [
      "C:\\Users\\pushp\\anaconda3\\Lib\\site-packages\\sklearn\\metrics\\_regression.py:492: FutureWarning: 'squared' is deprecated in version 1.4 and will be removed in 1.6. To calculate the root mean squared error, use the function'root_mean_squared_error'.\n",
      "  warnings.warn(\n"
     ]
    },
    {
     "name": "stdout",
     "output_type": "stream",
     "text": [
      "  Fold RMSE: 0.2011, R2: 0.9603\n"
     ]
    },
    {
     "name": "stderr",
     "output_type": "stream",
     "text": [
      "C:\\Users\\pushp\\anaconda3\\Lib\\site-packages\\sklearn\\metrics\\_regression.py:492: FutureWarning: 'squared' is deprecated in version 1.4 and will be removed in 1.6. To calculate the root mean squared error, use the function'root_mean_squared_error'.\n",
      "  warnings.warn(\n",
      "C:\\Users\\pushp\\anaconda3\\Lib\\site-packages\\sklearn\\metrics\\_regression.py:492: FutureWarning: 'squared' is deprecated in version 1.4 and will be removed in 1.6. To calculate the root mean squared error, use the function'root_mean_squared_error'.\n",
      "  warnings.warn(\n"
     ]
    },
    {
     "name": "stdout",
     "output_type": "stream",
     "text": [
      "  Fold RMSE: 0.1923, R2: 0.9620\n",
      "Overall BlendProperty3 RMSE: 0.1898, R2: 0.9639\n",
      "\n",
      "Training for target: BlendProperty4\n"
     ]
    },
    {
     "name": "stderr",
     "output_type": "stream",
     "text": [
      "C:\\Users\\pushp\\anaconda3\\Lib\\site-packages\\sklearn\\metrics\\_regression.py:492: FutureWarning: 'squared' is deprecated in version 1.4 and will be removed in 1.6. To calculate the root mean squared error, use the function'root_mean_squared_error'.\n",
      "  warnings.warn(\n"
     ]
    },
    {
     "name": "stdout",
     "output_type": "stream",
     "text": [
      "  Fold RMSE: 0.1973, R2: 0.9605\n"
     ]
    },
    {
     "name": "stderr",
     "output_type": "stream",
     "text": [
      "C:\\Users\\pushp\\anaconda3\\Lib\\site-packages\\sklearn\\metrics\\_regression.py:492: FutureWarning: 'squared' is deprecated in version 1.4 and will be removed in 1.6. To calculate the root mean squared error, use the function'root_mean_squared_error'.\n",
      "  warnings.warn(\n"
     ]
    },
    {
     "name": "stdout",
     "output_type": "stream",
     "text": [
      "  Fold RMSE: 0.1727, R2: 0.9708\n"
     ]
    },
    {
     "name": "stderr",
     "output_type": "stream",
     "text": [
      "C:\\Users\\pushp\\anaconda3\\Lib\\site-packages\\sklearn\\metrics\\_regression.py:492: FutureWarning: 'squared' is deprecated in version 1.4 and will be removed in 1.6. To calculate the root mean squared error, use the function'root_mean_squared_error'.\n",
      "  warnings.warn(\n"
     ]
    },
    {
     "name": "stdout",
     "output_type": "stream",
     "text": [
      "  Fold RMSE: 0.1561, R2: 0.9742\n"
     ]
    },
    {
     "name": "stderr",
     "output_type": "stream",
     "text": [
      "C:\\Users\\pushp\\anaconda3\\Lib\\site-packages\\sklearn\\metrics\\_regression.py:492: FutureWarning: 'squared' is deprecated in version 1.4 and will be removed in 1.6. To calculate the root mean squared error, use the function'root_mean_squared_error'.\n",
      "  warnings.warn(\n"
     ]
    },
    {
     "name": "stdout",
     "output_type": "stream",
     "text": [
      "  Fold RMSE: 0.1675, R2: 0.9725\n"
     ]
    },
    {
     "name": "stderr",
     "output_type": "stream",
     "text": [
      "C:\\Users\\pushp\\anaconda3\\Lib\\site-packages\\sklearn\\metrics\\_regression.py:492: FutureWarning: 'squared' is deprecated in version 1.4 and will be removed in 1.6. To calculate the root mean squared error, use the function'root_mean_squared_error'.\n",
      "  warnings.warn(\n",
      "C:\\Users\\pushp\\anaconda3\\Lib\\site-packages\\sklearn\\metrics\\_regression.py:492: FutureWarning: 'squared' is deprecated in version 1.4 and will be removed in 1.6. To calculate the root mean squared error, use the function'root_mean_squared_error'.\n",
      "  warnings.warn(\n"
     ]
    },
    {
     "name": "stdout",
     "output_type": "stream",
     "text": [
      "  Fold RMSE: 0.1833, R2: 0.9696\n",
      "Overall BlendProperty4 RMSE: 0.1759, R2: 0.9696\n",
      "\n",
      "Training for target: BlendProperty5\n"
     ]
    },
    {
     "name": "stderr",
     "output_type": "stream",
     "text": [
      "C:\\Users\\pushp\\anaconda3\\Lib\\site-packages\\sklearn\\metrics\\_regression.py:492: FutureWarning: 'squared' is deprecated in version 1.4 and will be removed in 1.6. To calculate the root mean squared error, use the function'root_mean_squared_error'.\n",
      "  warnings.warn(\n"
     ]
    },
    {
     "name": "stdout",
     "output_type": "stream",
     "text": [
      "  Fold RMSE: 0.0876, R2: 0.9928\n"
     ]
    },
    {
     "name": "stderr",
     "output_type": "stream",
     "text": [
      "C:\\Users\\pushp\\anaconda3\\Lib\\site-packages\\sklearn\\metrics\\_regression.py:492: FutureWarning: 'squared' is deprecated in version 1.4 and will be removed in 1.6. To calculate the root mean squared error, use the function'root_mean_squared_error'.\n",
      "  warnings.warn(\n"
     ]
    },
    {
     "name": "stdout",
     "output_type": "stream",
     "text": [
      "  Fold RMSE: 0.0608, R2: 0.9960\n"
     ]
    },
    {
     "name": "stderr",
     "output_type": "stream",
     "text": [
      "C:\\Users\\pushp\\anaconda3\\Lib\\site-packages\\sklearn\\metrics\\_regression.py:492: FutureWarning: 'squared' is deprecated in version 1.4 and will be removed in 1.6. To calculate the root mean squared error, use the function'root_mean_squared_error'.\n",
      "  warnings.warn(\n"
     ]
    },
    {
     "name": "stdout",
     "output_type": "stream",
     "text": [
      "  Fold RMSE: 0.0643, R2: 0.9960\n"
     ]
    },
    {
     "name": "stderr",
     "output_type": "stream",
     "text": [
      "C:\\Users\\pushp\\anaconda3\\Lib\\site-packages\\sklearn\\metrics\\_regression.py:492: FutureWarning: 'squared' is deprecated in version 1.4 and will be removed in 1.6. To calculate the root mean squared error, use the function'root_mean_squared_error'.\n",
      "  warnings.warn(\n"
     ]
    },
    {
     "name": "stdout",
     "output_type": "stream",
     "text": [
      "  Fold RMSE: 0.0706, R2: 0.9950\n"
     ]
    },
    {
     "name": "stderr",
     "output_type": "stream",
     "text": [
      "C:\\Users\\pushp\\anaconda3\\Lib\\site-packages\\sklearn\\metrics\\_regression.py:492: FutureWarning: 'squared' is deprecated in version 1.4 and will be removed in 1.6. To calculate the root mean squared error, use the function'root_mean_squared_error'.\n",
      "  warnings.warn(\n",
      "C:\\Users\\pushp\\anaconda3\\Lib\\site-packages\\sklearn\\metrics\\_regression.py:492: FutureWarning: 'squared' is deprecated in version 1.4 and will be removed in 1.6. To calculate the root mean squared error, use the function'root_mean_squared_error'.\n",
      "  warnings.warn(\n"
     ]
    },
    {
     "name": "stdout",
     "output_type": "stream",
     "text": [
      "  Fold RMSE: 0.1140, R2: 0.9844\n",
      "Overall BlendProperty5 RMSE: 0.0818, R2: 0.9931\n",
      "\n",
      "Training for target: BlendProperty6\n"
     ]
    },
    {
     "name": "stderr",
     "output_type": "stream",
     "text": [
      "C:\\Users\\pushp\\anaconda3\\Lib\\site-packages\\sklearn\\metrics\\_regression.py:492: FutureWarning: 'squared' is deprecated in version 1.4 and will be removed in 1.6. To calculate the root mean squared error, use the function'root_mean_squared_error'.\n",
      "  warnings.warn(\n"
     ]
    },
    {
     "name": "stdout",
     "output_type": "stream",
     "text": [
      "  Fold RMSE: 0.1986, R2: 0.9601\n"
     ]
    },
    {
     "name": "stderr",
     "output_type": "stream",
     "text": [
      "C:\\Users\\pushp\\anaconda3\\Lib\\site-packages\\sklearn\\metrics\\_regression.py:492: FutureWarning: 'squared' is deprecated in version 1.4 and will be removed in 1.6. To calculate the root mean squared error, use the function'root_mean_squared_error'.\n",
      "  warnings.warn(\n"
     ]
    },
    {
     "name": "stdout",
     "output_type": "stream",
     "text": [
      "  Fold RMSE: 0.1892, R2: 0.9659\n"
     ]
    },
    {
     "name": "stderr",
     "output_type": "stream",
     "text": [
      "C:\\Users\\pushp\\anaconda3\\Lib\\site-packages\\sklearn\\metrics\\_regression.py:492: FutureWarning: 'squared' is deprecated in version 1.4 and will be removed in 1.6. To calculate the root mean squared error, use the function'root_mean_squared_error'.\n",
      "  warnings.warn(\n"
     ]
    },
    {
     "name": "stdout",
     "output_type": "stream",
     "text": [
      "  Fold RMSE: 0.1922, R2: 0.9604\n"
     ]
    },
    {
     "name": "stderr",
     "output_type": "stream",
     "text": [
      "C:\\Users\\pushp\\anaconda3\\Lib\\site-packages\\sklearn\\metrics\\_regression.py:492: FutureWarning: 'squared' is deprecated in version 1.4 and will be removed in 1.6. To calculate the root mean squared error, use the function'root_mean_squared_error'.\n",
      "  warnings.warn(\n"
     ]
    },
    {
     "name": "stdout",
     "output_type": "stream",
     "text": [
      "  Fold RMSE: 0.1918, R2: 0.9670\n"
     ]
    },
    {
     "name": "stderr",
     "output_type": "stream",
     "text": [
      "C:\\Users\\pushp\\anaconda3\\Lib\\site-packages\\sklearn\\metrics\\_regression.py:492: FutureWarning: 'squared' is deprecated in version 1.4 and will be removed in 1.6. To calculate the root mean squared error, use the function'root_mean_squared_error'.\n",
      "  warnings.warn(\n",
      "C:\\Users\\pushp\\anaconda3\\Lib\\site-packages\\sklearn\\metrics\\_regression.py:492: FutureWarning: 'squared' is deprecated in version 1.4 and will be removed in 1.6. To calculate the root mean squared error, use the function'root_mean_squared_error'.\n",
      "  warnings.warn(\n"
     ]
    },
    {
     "name": "stdout",
     "output_type": "stream",
     "text": [
      "  Fold RMSE: 0.1981, R2: 0.9602\n",
      "Overall BlendProperty6 RMSE: 0.1940, R2: 0.9630\n",
      "\n",
      "Training for target: BlendProperty7\n"
     ]
    },
    {
     "name": "stderr",
     "output_type": "stream",
     "text": [
      "C:\\Users\\pushp\\anaconda3\\Lib\\site-packages\\sklearn\\metrics\\_regression.py:492: FutureWarning: 'squared' is deprecated in version 1.4 and will be removed in 1.6. To calculate the root mean squared error, use the function'root_mean_squared_error'.\n",
      "  warnings.warn(\n"
     ]
    },
    {
     "name": "stdout",
     "output_type": "stream",
     "text": [
      "  Fold RMSE: 0.1851, R2: 0.9642\n"
     ]
    },
    {
     "name": "stderr",
     "output_type": "stream",
     "text": [
      "C:\\Users\\pushp\\anaconda3\\Lib\\site-packages\\sklearn\\metrics\\_regression.py:492: FutureWarning: 'squared' is deprecated in version 1.4 and will be removed in 1.6. To calculate the root mean squared error, use the function'root_mean_squared_error'.\n",
      "  warnings.warn(\n"
     ]
    },
    {
     "name": "stdout",
     "output_type": "stream",
     "text": [
      "  Fold RMSE: 0.1862, R2: 0.9662\n"
     ]
    },
    {
     "name": "stderr",
     "output_type": "stream",
     "text": [
      "C:\\Users\\pushp\\anaconda3\\Lib\\site-packages\\sklearn\\metrics\\_regression.py:492: FutureWarning: 'squared' is deprecated in version 1.4 and will be removed in 1.6. To calculate the root mean squared error, use the function'root_mean_squared_error'.\n",
      "  warnings.warn(\n"
     ]
    },
    {
     "name": "stdout",
     "output_type": "stream",
     "text": [
      "  Fold RMSE: 0.1949, R2: 0.9609\n"
     ]
    },
    {
     "name": "stderr",
     "output_type": "stream",
     "text": [
      "C:\\Users\\pushp\\anaconda3\\Lib\\site-packages\\sklearn\\metrics\\_regression.py:492: FutureWarning: 'squared' is deprecated in version 1.4 and will be removed in 1.6. To calculate the root mean squared error, use the function'root_mean_squared_error'.\n",
      "  warnings.warn(\n"
     ]
    },
    {
     "name": "stdout",
     "output_type": "stream",
     "text": [
      "  Fold RMSE: 0.2138, R2: 0.9572\n"
     ]
    },
    {
     "name": "stderr",
     "output_type": "stream",
     "text": [
      "C:\\Users\\pushp\\anaconda3\\Lib\\site-packages\\sklearn\\metrics\\_regression.py:492: FutureWarning: 'squared' is deprecated in version 1.4 and will be removed in 1.6. To calculate the root mean squared error, use the function'root_mean_squared_error'.\n",
      "  warnings.warn(\n",
      "C:\\Users\\pushp\\anaconda3\\Lib\\site-packages\\sklearn\\metrics\\_regression.py:492: FutureWarning: 'squared' is deprecated in version 1.4 and will be removed in 1.6. To calculate the root mean squared error, use the function'root_mean_squared_error'.\n",
      "  warnings.warn(\n"
     ]
    },
    {
     "name": "stdout",
     "output_type": "stream",
     "text": [
      "  Fold RMSE: 0.1973, R2: 0.9598\n",
      "Overall BlendProperty7 RMSE: 0.1957, R2: 0.9617\n",
      "\n",
      "Training for target: BlendProperty8\n"
     ]
    },
    {
     "name": "stderr",
     "output_type": "stream",
     "text": [
      "C:\\Users\\pushp\\anaconda3\\Lib\\site-packages\\sklearn\\metrics\\_regression.py:492: FutureWarning: 'squared' is deprecated in version 1.4 and will be removed in 1.6. To calculate the root mean squared error, use the function'root_mean_squared_error'.\n",
      "  warnings.warn(\n"
     ]
    },
    {
     "name": "stdout",
     "output_type": "stream",
     "text": [
      "  Fold RMSE: 0.2290, R2: 0.9456\n"
     ]
    },
    {
     "name": "stderr",
     "output_type": "stream",
     "text": [
      "C:\\Users\\pushp\\anaconda3\\Lib\\site-packages\\sklearn\\metrics\\_regression.py:492: FutureWarning: 'squared' is deprecated in version 1.4 and will be removed in 1.6. To calculate the root mean squared error, use the function'root_mean_squared_error'.\n",
      "  warnings.warn(\n"
     ]
    },
    {
     "name": "stdout",
     "output_type": "stream",
     "text": [
      "  Fold RMSE: 0.2181, R2: 0.9531\n"
     ]
    },
    {
     "name": "stderr",
     "output_type": "stream",
     "text": [
      "C:\\Users\\pushp\\anaconda3\\Lib\\site-packages\\sklearn\\metrics\\_regression.py:492: FutureWarning: 'squared' is deprecated in version 1.4 and will be removed in 1.6. To calculate the root mean squared error, use the function'root_mean_squared_error'.\n",
      "  warnings.warn(\n"
     ]
    },
    {
     "name": "stdout",
     "output_type": "stream",
     "text": [
      "  Fold RMSE: 0.2202, R2: 0.9480\n"
     ]
    },
    {
     "name": "stderr",
     "output_type": "stream",
     "text": [
      "C:\\Users\\pushp\\anaconda3\\Lib\\site-packages\\sklearn\\metrics\\_regression.py:492: FutureWarning: 'squared' is deprecated in version 1.4 and will be removed in 1.6. To calculate the root mean squared error, use the function'root_mean_squared_error'.\n",
      "  warnings.warn(\n"
     ]
    },
    {
     "name": "stdout",
     "output_type": "stream",
     "text": [
      "  Fold RMSE: 0.2010, R2: 0.9618\n"
     ]
    },
    {
     "name": "stderr",
     "output_type": "stream",
     "text": [
      "C:\\Users\\pushp\\anaconda3\\Lib\\site-packages\\sklearn\\metrics\\_regression.py:492: FutureWarning: 'squared' is deprecated in version 1.4 and will be removed in 1.6. To calculate the root mean squared error, use the function'root_mean_squared_error'.\n",
      "  warnings.warn(\n",
      "C:\\Users\\pushp\\anaconda3\\Lib\\site-packages\\sklearn\\metrics\\_regression.py:492: FutureWarning: 'squared' is deprecated in version 1.4 and will be removed in 1.6. To calculate the root mean squared error, use the function'root_mean_squared_error'.\n",
      "  warnings.warn(\n"
     ]
    },
    {
     "name": "stdout",
     "output_type": "stream",
     "text": [
      "  Fold RMSE: 0.2069, R2: 0.9575\n",
      "Overall BlendProperty8 RMSE: 0.2153, R2: 0.9535\n",
      "\n",
      "Training for target: BlendProperty9\n"
     ]
    },
    {
     "name": "stderr",
     "output_type": "stream",
     "text": [
      "C:\\Users\\pushp\\anaconda3\\Lib\\site-packages\\sklearn\\metrics\\_regression.py:492: FutureWarning: 'squared' is deprecated in version 1.4 and will be removed in 1.6. To calculate the root mean squared error, use the function'root_mean_squared_error'.\n",
      "  warnings.warn(\n"
     ]
    },
    {
     "name": "stdout",
     "output_type": "stream",
     "text": [
      "  Fold RMSE: 0.2589, R2: 0.9364\n"
     ]
    },
    {
     "name": "stderr",
     "output_type": "stream",
     "text": [
      "C:\\Users\\pushp\\anaconda3\\Lib\\site-packages\\sklearn\\metrics\\_regression.py:492: FutureWarning: 'squared' is deprecated in version 1.4 and will be removed in 1.6. To calculate the root mean squared error, use the function'root_mean_squared_error'.\n",
      "  warnings.warn(\n"
     ]
    },
    {
     "name": "stdout",
     "output_type": "stream",
     "text": [
      "  Fold RMSE: 0.2522, R2: 0.9396\n"
     ]
    },
    {
     "name": "stderr",
     "output_type": "stream",
     "text": [
      "C:\\Users\\pushp\\anaconda3\\Lib\\site-packages\\sklearn\\metrics\\_regression.py:492: FutureWarning: 'squared' is deprecated in version 1.4 and will be removed in 1.6. To calculate the root mean squared error, use the function'root_mean_squared_error'.\n",
      "  warnings.warn(\n"
     ]
    },
    {
     "name": "stdout",
     "output_type": "stream",
     "text": [
      "  Fold RMSE: 0.2472, R2: 0.9358\n"
     ]
    },
    {
     "name": "stderr",
     "output_type": "stream",
     "text": [
      "C:\\Users\\pushp\\anaconda3\\Lib\\site-packages\\sklearn\\metrics\\_regression.py:492: FutureWarning: 'squared' is deprecated in version 1.4 and will be removed in 1.6. To calculate the root mean squared error, use the function'root_mean_squared_error'.\n",
      "  warnings.warn(\n"
     ]
    },
    {
     "name": "stdout",
     "output_type": "stream",
     "text": [
      "  Fold RMSE: 0.2327, R2: 0.9420\n"
     ]
    },
    {
     "name": "stderr",
     "output_type": "stream",
     "text": [
      "C:\\Users\\pushp\\anaconda3\\Lib\\site-packages\\sklearn\\metrics\\_regression.py:492: FutureWarning: 'squared' is deprecated in version 1.4 and will be removed in 1.6. To calculate the root mean squared error, use the function'root_mean_squared_error'.\n",
      "  warnings.warn(\n",
      "C:\\Users\\pushp\\anaconda3\\Lib\\site-packages\\sklearn\\metrics\\_regression.py:492: FutureWarning: 'squared' is deprecated in version 1.4 and will be removed in 1.6. To calculate the root mean squared error, use the function'root_mean_squared_error'.\n",
      "  warnings.warn(\n"
     ]
    },
    {
     "name": "stdout",
     "output_type": "stream",
     "text": [
      "  Fold RMSE: 0.2551, R2: 0.9345\n",
      "Overall BlendProperty9 RMSE: 0.2494, R2: 0.9379\n",
      "\n",
      "Training for target: BlendProperty10\n"
     ]
    },
    {
     "name": "stderr",
     "output_type": "stream",
     "text": [
      "C:\\Users\\pushp\\anaconda3\\Lib\\site-packages\\sklearn\\metrics\\_regression.py:492: FutureWarning: 'squared' is deprecated in version 1.4 and will be removed in 1.6. To calculate the root mean squared error, use the function'root_mean_squared_error'.\n",
      "  warnings.warn(\n"
     ]
    },
    {
     "name": "stdout",
     "output_type": "stream",
     "text": [
      "  Fold RMSE: 0.1579, R2: 0.9756\n"
     ]
    },
    {
     "name": "stderr",
     "output_type": "stream",
     "text": [
      "C:\\Users\\pushp\\anaconda3\\Lib\\site-packages\\sklearn\\metrics\\_regression.py:492: FutureWarning: 'squared' is deprecated in version 1.4 and will be removed in 1.6. To calculate the root mean squared error, use the function'root_mean_squared_error'.\n",
      "  warnings.warn(\n"
     ]
    },
    {
     "name": "stdout",
     "output_type": "stream",
     "text": [
      "  Fold RMSE: 0.1397, R2: 0.9801\n"
     ]
    },
    {
     "name": "stderr",
     "output_type": "stream",
     "text": [
      "C:\\Users\\pushp\\anaconda3\\Lib\\site-packages\\sklearn\\metrics\\_regression.py:492: FutureWarning: 'squared' is deprecated in version 1.4 and will be removed in 1.6. To calculate the root mean squared error, use the function'root_mean_squared_error'.\n",
      "  warnings.warn(\n"
     ]
    },
    {
     "name": "stdout",
     "output_type": "stream",
     "text": [
      "  Fold RMSE: 0.1613, R2: 0.9713\n"
     ]
    },
    {
     "name": "stderr",
     "output_type": "stream",
     "text": [
      "C:\\Users\\pushp\\anaconda3\\Lib\\site-packages\\sklearn\\metrics\\_regression.py:492: FutureWarning: 'squared' is deprecated in version 1.4 and will be removed in 1.6. To calculate the root mean squared error, use the function'root_mean_squared_error'.\n",
      "  warnings.warn(\n"
     ]
    },
    {
     "name": "stdout",
     "output_type": "stream",
     "text": [
      "  Fold RMSE: 0.1487, R2: 0.9767\n",
      "  Fold RMSE: 0.1587, R2: 0.9756\n",
      "Overall BlendProperty10 RMSE: 0.1535, R2: 0.9760\n",
      "\n",
      "✅ Training complete. Predictions saved to submission.csv\n"
     ]
    },
    {
     "name": "stderr",
     "output_type": "stream",
     "text": [
      "C:\\Users\\pushp\\anaconda3\\Lib\\site-packages\\sklearn\\metrics\\_regression.py:492: FutureWarning: 'squared' is deprecated in version 1.4 and will be removed in 1.6. To calculate the root mean squared error, use the function'root_mean_squared_error'.\n",
      "  warnings.warn(\n",
      "C:\\Users\\pushp\\anaconda3\\Lib\\site-packages\\sklearn\\metrics\\_regression.py:492: FutureWarning: 'squared' is deprecated in version 1.4 and will be removed in 1.6. To calculate the root mean squared error, use the function'root_mean_squared_error'.\n",
      "  warnings.warn(\n"
     ]
    }
   ],
   "source": [
    "import pandas as pd\n",
    "import numpy as np\n",
    "\n",
    "from sklearn.model_selection import KFold\n",
    "from sklearn.metrics import mean_squared_error, r2_score\n",
    "from sklearn.ensemble import RandomForestRegressor, GradientBoostingRegressor, StackingRegressor\n",
    "from sklearn.linear_model import RidgeCV\n",
    "\n",
    "# ======================\n",
    "# 1. Load Data\n",
    "# ======================\n",
    "train = pd.read_csv(\"train.csv\")\n",
    "test = pd.read_csv(\"test.csv\")\n",
    "\n",
    "\n",
    "# Target columns: all properties to predict\n",
    "target_cols = [col for col in train.columns if \"BlendProperty\" in col]\n",
    "\n",
    "# Drop unwanted columns\n",
    "drop_cols = target_cols + [\"ID\", \"Selection\"]  # add any extra if needed\n",
    "X = train.drop(columns=[c for c in drop_cols if c in train.columns])\n",
    "y = train[target_cols]\n",
    "\n",
    "X_test = test.drop(columns=[c for c in [\"ID\", \"Selection\"] if c in test.columns])\n",
    "\n",
    "# ==========================\n",
    "# 2. Feature Engineering\n",
    "# ==========================\n",
    "# Example: multiply fractions × properties\n",
    "fractions = [c for c in X.columns if \"fraction\" in c.lower()]\n",
    "comp_props = [c for c in X.columns if \"Component\" in c and \"fraction\" not in c.lower()]\n",
    "\n",
    "for frac in fractions:\n",
    "    for prop in comp_props:\n",
    "        new_col = f\"{frac}_x_{prop}\"\n",
    "        X[new_col] = X[frac] * X[prop]\n",
    "        X_test[new_col] = X_test[frac] * X_test[prop]\n",
    "\n",
    "# Align columns (safety check)\n",
    "X_test = X_test[X.columns]\n",
    "\n",
    "# ==========================\n",
    "# 3. Cross-Validation Setup\n",
    "# ==========================\n",
    "kf = KFold(n_splits=5, shuffle=True, random_state=42)\n",
    "\n",
    "models = {\n",
    "    \"rf\": RandomForestRegressor(n_estimators=300, random_state=42, n_jobs=-1),\n",
    "    \"gbr\": GradientBoostingRegressor(n_estimators=300, learning_rate=0.05, random_state=42)\n",
    "}\n",
    "\n",
    "stack_model = StackingRegressor(\n",
    "    estimators=[(\"rf\", models[\"rf\"]), (\"gbr\", models[\"gbr\"])],\n",
    "    final_estimator=RidgeCV(),\n",
    "    n_jobs=-1\n",
    ")\n",
    "\n",
    "# ==========================\n",
    "# 4. Training & Validation\n",
    "# ==========================\n",
    "oof = np.zeros(y.shape)\n",
    "preds = np.zeros((X_test.shape[0], y.shape[1]))\n",
    "\n",
    "for i, target in enumerate(target_cols):\n",
    "    print(f\"\\nTraining for target: {target}\")\n",
    "    y_target = y[target].values\n",
    "    oof_target = np.zeros(len(X))\n",
    "    preds_target = np.zeros(len(X_test))\n",
    "\n",
    "    for train_idx, val_idx in kf.split(X):\n",
    "        X_train, X_val = X.iloc[train_idx], X.iloc[val_idx]\n",
    "        y_train, y_val = y_target[train_idx], y_target[val_idx]\n",
    "\n",
    "        model = stack_model.fit(X_train, y_train)\n",
    "        val_pred = model.predict(X_val)\n",
    "        oof_target[val_idx] = val_pred\n",
    "        preds_target += model.predict(X_test) / kf.n_splits\n",
    "\n",
    "        rmse = mean_squared_error(y_val, val_pred, squared=False)\n",
    "        r2 = r2_score(y_val, val_pred)\n",
    "        print(f\"  Fold RMSE: {rmse:.4f}, R2: {r2:.4f}\")\n",
    "\n",
    "    oof[:, i] = oof_target\n",
    "    preds[:, i] = preds_target\n",
    "\n",
    "    overall_rmse = mean_squared_error(y_target, oof_target, squared=False)\n",
    "    overall_r2 = r2_score(y_target, oof_target)\n",
    "    print(f\"Overall {target} RMSE: {overall_rmse:.4f}, R2: {overall_r2:.4f}\")\n",
    "\n",
    "# ==========================\n",
    "# 5. Save Predictions\n",
    "# ==========================\n",
    "sub = pd.DataFrame(preds, columns=target_cols)\n",
    "sub.insert(0, \"ID\", test[\"ID\"])  # keep test IDs for submission\n",
    "sub.to_csv(\"submission.csv\", index=False)\n",
    "\n",
    "print(\"\\n✅ Training complete. Predictions saved to submission.csv\")\n",
    "\n",
    "\n"
   ]
  },
  {
   "cell_type": "code",
   "execution_count": 22,
   "id": "8981f576-4636-4ddb-89e1-67a967333a73",
   "metadata": {},
   "outputs": [
    {
     "name": "stdout",
     "output_type": "stream",
     "text": [
      "\n",
      "🔹 Average R²: -0.9604\n",
      "🔹 Average MAE: 1.1574\n",
      "🔹 Average RMSE: 1.4219\n",
      "🔹 Average MedAE: 1.0162\n",
      "🔹 Average EVS: -0.9563\n",
      "🔹 Average MAPE (%): 992.15\n",
      "\n",
      "Per Target Metrics:\n",
      "    Target        R2       MAE      RMSE     MedAE       EVS    MAPE (%)\n",
      "0  Target -0.960364  1.157371  1.421939  1.016163 -0.956338  992.150768\n"
     ]
    },
    {
     "name": "stderr",
     "output_type": "stream",
     "text": [
      "C:\\Users\\pushp\\anaconda3\\Lib\\site-packages\\sklearn\\metrics\\_regression.py:492: FutureWarning: 'squared' is deprecated in version 1.4 and will be removed in 1.6. To calculate the root mean squared error, use the function'root_mean_squared_error'.\n",
      "  warnings.warn(\n"
     ]
    }
   ],
   "source": [
    "import numpy as np\n",
    "import pandas as pd\n",
    "from sklearn.metrics import r2_score, mean_absolute_error, mean_squared_error, median_absolute_error, explained_variance_score\n",
    "\n",
    "# Define MAPE function\n",
    "def mean_absolute_percentage_error(y_true, y_pred):\n",
    "    return np.mean(np.abs((y_true - y_pred) / y_true)) * 100\n",
    "\n",
    "metrics_list = []\n",
    "\n",
    "# Ensure y_val is a DataFrame\n",
    "if isinstance(y_val, np.ndarray):\n",
    "    y_val = pd.DataFrame(y_val, columns=target_cols)\n",
    "\n",
    "# Loop through each target column\n",
    "for i, col in enumerate(target_cols):\n",
    "    y_true = y_val[col].values  # use column directly\n",
    "    y_pred = val_preds[:, i]    # predicted values\n",
    "\n",
    "    r2 = r2_score(y_true, y_pred)\n",
    "    mae = mean_absolute_error(y_true, y_pred)\n",
    "    rmse = mean_squared_error(y_true, y_pred, squared=False)\n",
    "    medae = median_absolute_error(y_true, y_pred)\n",
    "    evs = explained_variance_score(y_true, y_pred)\n",
    "    mape = mean_absolute_percentage_error(y_true, y_pred)\n",
    "\n",
    "    metrics_list.append([col, r2, mae, rmse, medae, evs, mape])\n",
    "\n",
    "# Create DataFrame of metrics\n",
    "metrics_df = pd.DataFrame(metrics_list,\n",
    "                          columns=[\"Target\", \"R2\", \"MAE\", \"RMSE\", \"MedAE\", \"EVS\", \"MAPE (%)\"])\n",
    "\n",
    "# Print averages\n",
    "print(\"\\n🔹 Average R²:\", np.mean(metrics_df[\"R2\"]).round(4))\n",
    "print(\"🔹 Average MAE:\", np.mean(metrics_df[\"MAE\"]).round(4))\n",
    "print(\"🔹 Average RMSE:\", np.mean(metrics_df[\"RMSE\"]).round(4))\n",
    "print(\"🔹 Average MedAE:\", np.mean(metrics_df[\"MedAE\"]).round(4))\n",
    "print(\"🔹 Average EVS:\", np.mean(metrics_df[\"EVS\"]).round(4))\n",
    "print(\"🔹 Average MAPE (%):\", np.mean(metrics_df[\"MAPE (%)\"]).round(2))\n",
    "\n",
    "# Print per-target metrics\n",
    "print(\"\\nPer Target Metrics:\\n\", metrics_df)\n"
   ]
  },
  {
   "cell_type": "code",
   "execution_count": 3,
   "id": "9f1f4a67-0145-4259-a239-5b10e14a80fe",
   "metadata": {},
   "outputs": [
    {
     "name": "stdout",
     "output_type": "stream",
     "text": [
      "[LightGBM] [Info] Auto-choosing col-wise multi-threading, the overhead of testing was 0.001593 seconds.\n",
      "You can set `force_col_wise=true` to remove the overhead.\n",
      "[LightGBM] [Info] Total Bins 12981\n",
      "[LightGBM] [Info] Number of data points in the train set: 1600, number of used features: 55\n",
      "[LightGBM] [Info] Start training from score -0.007867\n",
      "[LightGBM] [Info] Auto-choosing col-wise multi-threading, the overhead of testing was 0.001543 seconds.\n",
      "You can set `force_col_wise=true` to remove the overhead.\n",
      "[LightGBM] [Info] Total Bins 12981\n",
      "[LightGBM] [Info] Number of data points in the train set: 1600, number of used features: 55\n",
      "[LightGBM] [Info] Start training from score -0.004643\n",
      "[LightGBM] [Info] Auto-choosing col-wise multi-threading, the overhead of testing was 0.001399 seconds.\n",
      "You can set `force_col_wise=true` to remove the overhead.\n",
      "[LightGBM] [Info] Total Bins 12981\n",
      "[LightGBM] [Info] Number of data points in the train set: 1600, number of used features: 55\n",
      "[LightGBM] [Info] Start training from score -0.030361\n",
      "[LightGBM] [Info] Auto-choosing col-wise multi-threading, the overhead of testing was 0.001796 seconds.\n",
      "You can set `force_col_wise=true` to remove the overhead.\n",
      "[LightGBM] [Info] Total Bins 12981\n",
      "[LightGBM] [Info] Number of data points in the train set: 1600, number of used features: 55\n",
      "[LightGBM] [Info] Start training from score -0.013032\n",
      "[LightGBM] [Info] Auto-choosing col-wise multi-threading, the overhead of testing was 0.001845 seconds.\n",
      "You can set `force_col_wise=true` to remove the overhead.\n",
      "[LightGBM] [Info] Total Bins 12981\n",
      "[LightGBM] [Info] Number of data points in the train set: 1600, number of used features: 55\n",
      "[LightGBM] [Info] Start training from score -0.033121\n",
      "[LightGBM] [Info] Auto-choosing col-wise multi-threading, the overhead of testing was 0.001927 seconds.\n",
      "You can set `force_col_wise=true` to remove the overhead.\n",
      "[LightGBM] [Info] Total Bins 12981\n",
      "[LightGBM] [Info] Number of data points in the train set: 1600, number of used features: 55\n",
      "[LightGBM] [Info] Start training from score -0.021294\n",
      "[LightGBM] [Info] Auto-choosing col-wise multi-threading, the overhead of testing was 0.001464 seconds.\n",
      "You can set `force_col_wise=true` to remove the overhead.\n",
      "[LightGBM] [Info] Total Bins 12981\n",
      "[LightGBM] [Info] Number of data points in the train set: 1600, number of used features: 55\n",
      "[LightGBM] [Info] Start training from score -0.029208\n",
      "[LightGBM] [Info] Auto-choosing col-wise multi-threading, the overhead of testing was 0.001399 seconds.\n",
      "You can set `force_col_wise=true` to remove the overhead.\n",
      "[LightGBM] [Info] Total Bins 12981\n",
      "[LightGBM] [Info] Number of data points in the train set: 1600, number of used features: 55\n",
      "[LightGBM] [Info] Start training from score -0.010603\n",
      "[LightGBM] [Info] Auto-choosing col-wise multi-threading, the overhead of testing was 0.001480 seconds.\n",
      "You can set `force_col_wise=true` to remove the overhead.\n",
      "[LightGBM] [Info] Total Bins 12981\n",
      "[LightGBM] [Info] Number of data points in the train set: 1600, number of used features: 55\n",
      "[LightGBM] [Info] Start training from score -0.018851\n",
      "[LightGBM] [Info] Auto-choosing col-wise multi-threading, the overhead of testing was 0.001461 seconds.\n",
      "You can set `force_col_wise=true` to remove the overhead.\n",
      "[LightGBM] [Info] Total Bins 12981\n",
      "[LightGBM] [Info] Number of data points in the train set: 1600, number of used features: 55\n",
      "[LightGBM] [Info] Start training from score 0.004861\n",
      "\n",
      "🔹 Average R²: 0.9505\n",
      "🔹 Average MAE: 0.1593\n",
      "\n",
      "Per Target Metrics:\n",
      "             Target  R2_Score       MAE\n",
      "0   BlendProperty1  0.940712  0.177125\n",
      "1   BlendProperty2  0.952841  0.163217\n",
      "2   BlendProperty3  0.960602  0.147101\n",
      "3   BlendProperty4  0.944192  0.176485\n",
      "4   BlendProperty5  0.983311  0.049839\n",
      "5   BlendProperty6  0.944251  0.176654\n",
      "6   BlendProperty7  0.961423  0.147800\n",
      "7   BlendProperty8  0.926299  0.203156\n",
      "8   BlendProperty9  0.927332  0.204965\n",
      "9  BlendProperty10  0.964100  0.147095\n",
      "\n",
      "✅ Submission saved at: C:\\Users\\pushp\\Downloads\\dataset\\submission_v2.csv\n"
     ]
    }
   ],
   "source": [
    "# ================================\n",
    "# 1. Import Libraries\n",
    "# ================================\n",
    "import pandas as pd\n",
    "import numpy as np\n",
    "from pathlib import Path\n",
    "from sklearn.model_selection import train_test_split\n",
    "from sklearn.metrics import r2_score, mean_absolute_error\n",
    "from sklearn.multioutput import MultiOutputRegressor\n",
    "from sklearn.pipeline import Pipeline\n",
    "from lightgbm import LGBMRegressor\n",
    "\n",
    "# ================================\n",
    "# 2. Load Data\n",
    "# ================================\n",
    "data_dir = Path(r\"C:\\Users\\pushp\\Downloads\\dataset\")\n",
    "\n",
    "train_df = pd.read_csv(data_dir / \"train.csv\")\n",
    "test_df = pd.read_csv(data_dir / \"test.csv\")\n",
    "sample_df = pd.read_csv(data_dir / \"sample_solution.csv\")\n",
    "\n",
    "# ================================\n",
    "# 3. Feature / Target Split\n",
    "# ================================\n",
    "target_cols = train_df.filter(like=\"BlendProperty\").columns.tolist()\n",
    "X = train_df.drop(columns=target_cols)\n",
    "y = train_df[target_cols]\n",
    "\n",
    "X_test = test_df.drop(columns=[\"ID\"])\n",
    "test_ids = test_df[\"ID\"]\n",
    "\n",
    "# ================================\n",
    "# 4. Train/Validation Split\n",
    "# ================================\n",
    "def make_split(X, y, test_size=0.2, seed=42):\n",
    "    return train_test_split(X, y, test_size=test_size, random_state=seed)\n",
    "\n",
    "X_train, X_val, y_train, y_val = make_split(X, y)\n",
    "\n",
    "# ================================\n",
    "# 5. Model Training\n",
    "# ================================\n",
    "regressor = LGBMRegressor(\n",
    "    n_estimators=120,\n",
    "    learning_rate=0.08,\n",
    "    random_state=42,\n",
    "    n_jobs=-1\n",
    ")\n",
    "\n",
    "model = Pipeline([\n",
    "    (\"multioutput\", MultiOutputRegressor(regressor))\n",
    "])\n",
    "\n",
    "model.fit(X_train, y_train)\n",
    "\n",
    "# ================================\n",
    "# 6. Validation Performance\n",
    "# ================================\n",
    "val_preds = model.predict(X_val)\n",
    "\n",
    "r2_list = [r2_score(y_val.iloc[:, i], val_preds[:, i]) for i in range(y.shape[1])]\n",
    "mae_list = [mean_absolute_error(y_val.iloc[:, i], val_preds[:, i]) for i in range(y.shape[1])]\n",
    "\n",
    "metrics_df = pd.DataFrame({\n",
    "    \"Target\": target_cols,\n",
    "    \"R2_Score\": r2_list,\n",
    "    \"MAE\": mae_list\n",
    "})\n",
    "\n",
    "print(\"\\n🔹 Average R²:\", np.mean(r2_list).round(4))\n",
    "print(\"🔹 Average MAE:\", np.mean(mae_list).round(4))\n",
    "print(\"\\nPer Target Metrics:\\n\", metrics_df)\n",
    "\n",
    "# ================================\n",
    "# 7. Final Predictions & Save\n",
    "# ================================\n",
    "final_preds = model.predict(X_test)\n",
    "\n",
    "submission = pd.DataFrame(final_preds, columns=target_cols)\n",
    "submission.insert(0, \"ID\", test_ids)\n",
    "submission = submission[sample_df.columns]   # match required format\n",
    "\n",
    "out_path = data_dir / \"submission_v2.csv\"\n",
    "submission.to_csv(out_path, index=False)\n",
    "\n",
    "print(f\"\\n✅ Submission saved at: {out_path}\")"
   ]
  },
  {
   "cell_type": "code",
   "execution_count": 7,
   "id": "0e882397-0f48-4880-99dc-c4a1c8c60e19",
   "metadata": {},
   "outputs": [],
   "source": [
    "import pickle\n",
    "\n",
    "with open(\"model.pkl\", \"wb\") as f:\n",
    "    pickle.dump(model, f)\n",
    "pickle.dump(target_cols, open(\"target_cols.pkl\", \"wb\"))"
   ]
  },
  {
   "cell_type": "code",
   "execution_count": null,
   "id": "4637a067-83aa-4cd6-b93f-7a30e37ad0de",
   "metadata": {},
   "outputs": [],
   "source": []
  },
  {
   "cell_type": "code",
   "execution_count": null,
   "id": "8968b57c-a8bd-4c7e-b338-4286790486c6",
   "metadata": {},
   "outputs": [],
   "source": []
  }
 ],
 "metadata": {
  "kernelspec": {
   "display_name": "Python [conda env:base] *",
   "language": "python",
   "name": "conda-base-py"
  },
  "language_info": {
   "codemirror_mode": {
    "name": "ipython",
    "version": 3
   },
   "file_extension": ".py",
   "mimetype": "text/x-python",
   "name": "python",
   "nbconvert_exporter": "python",
   "pygments_lexer": "ipython3",
   "version": "3.12.7"
  }
 },
 "nbformat": 4,
 "nbformat_minor": 5
}
